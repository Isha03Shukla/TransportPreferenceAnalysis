{
 "cells": [
  {
   "cell_type": "markdown",
   "id": "p1kBn0xM_JGm",
   "metadata": {
    "id": "p1kBn0xM_JGm"
   },
   "source": [
    "# Transport Preference Analysis Project"
   ]
  },
  {
   "cell_type": "markdown",
   "id": "yZvo8CHcetWN",
   "metadata": {
    "id": "yZvo8CHcetWN"
   },
   "source": [
    "## Problem Statement"
   ]
  },
  {
   "cell_type": "markdown",
   "id": "empty-shanghai",
   "metadata": {
    "id": "empty-shanghai"
   },
   "source": [
    "### Context:\n",
    "\n",
    "Link for the dataset: https://www.kaggle.com/datasets/kunalk0hli/transportxlri\n",
    "\n",
    "You are in discussions with ABC Consulting company for providing transport for their employees. For this purpose, you are tasked with understanding how do the employees of ABC Consulting prefer to commute presently (between home and office). Based on the parameters like age, salary, work experience etc. given in the data set ‘Transport.csv’, you are required to predict the preferred mode of transport.\n",
    "\n",
    "### Objective:\n",
    "\n",
    "To determine the preferred mode of transportation, we aim to develop and compare models using XGBoost and Random Forest algorithms. By evaluating their performance, we can identify which model more accurately predicts transportation preferences.\n",
    "\n",
    "\n",
    "### Data Description\n",
    "\n",
    "* Age: Age of the Employee in Years\n",
    "* Gender: Gender of the Employee\n",
    "* Engineer: For Engineer =1 , Non Engineer =0\n",
    "* MBA: For MBA =1 , Non-MBA =0\n",
    "* Work Exp: Experience in years\n",
    "* Salary: Salary in Lakhs per Annum\n",
    "* Distance: Distance in km from Home to Office\n",
    "* license: If Employee has Driving Licence 1, If not, then 0\n",
    "* Transport: Mode of Transport"
   ]
  },
  {
   "cell_type": "markdown",
   "id": "Lm7obbsV_RUT",
   "metadata": {
    "id": "Lm7obbsV_RUT"
   },
   "source": [
    "## Importing necessary libraries"
   ]
  },
  {
   "cell_type": "code",
   "execution_count": 1,
   "id": "canadian-maple",
   "metadata": {
    "id": "canadian-maple"
   },
   "outputs": [],
   "source": [
    "import warnings\n",
    "warnings.filterwarnings(\"ignore\") #to avoid cluttering output with non-critical warnings.\n",
    "\n",
    "# Libraries to help with reading and manipulating data\n",
    "import numpy as np\n",
    "import pandas as pd\n",
    "\n",
    "# Library to split data\n",
    "from sklearn.model_selection import train_test_split\n",
    "\n",
    "# libaries to help with data visualization\n",
    "import matplotlib.pyplot as plt\n",
    "import seaborn as sns\n",
    "\n",
    "# Libraries different ensemble classifiers\n",
    "from sklearn.ensemble import (\n",
    "    BaggingClassifier,\n",
    "    RandomForestClassifier,\n",
    "    #RandomForestRegressor\n",
    ")\n",
    "\n",
    "from xgboost import XGBClassifier\n",
    "\n",
    "# Libraries to get different metric scores\n",
    "from sklearn import metrics\n",
    "from sklearn.metrics import (\n",
    "    confusion_matrix,\n",
    "    accuracy_score,\n",
    "    precision_score,\n",
    "    recall_score,\n",
    "    f1_score,\n",
    ")\n",
    "\n",
    "# To tune different models based on hyperparameter\n",
    "from sklearn.model_selection import GridSearchCV"
   ]
  },
  {
   "cell_type": "markdown",
   "id": "thorough-passion",
   "metadata": {
    "id": "thorough-passion"
   },
   "source": [
    "## Importing Dataset"
   ]
  },
  {
   "cell_type": "code",
   "execution_count": 2,
   "id": "alleged-teaching",
   "metadata": {
    "id": "alleged-teaching"
   },
   "outputs": [],
   "source": [
    "trans = pd.read_csv('/Users/ishashukla/Downloads/Transport.csv') "
   ]
  },
  {
   "cell_type": "code",
   "execution_count": 3,
   "id": "falling-annual",
   "metadata": {
    "id": "falling-annual"
   },
   "outputs": [],
   "source": [
    "# copying data to another variable to avoid any changes to original data\n",
    "data = trans.copy()"
   ]
  },
  {
   "cell_type": "markdown",
   "id": "mq-1s9p-_aKl",
   "metadata": {
    "id": "mq-1s9p-_aKl"
   },
   "source": [
    "## Overview of the Dataset"
   ]
  },
  {
   "cell_type": "markdown",
   "id": "aboriginal-wrist",
   "metadata": {
    "id": "aboriginal-wrist"
   },
   "source": [
    "#### View the first and last 5 rows of the dataset"
   ]
  },
  {
   "cell_type": "code",
   "execution_count": 4,
   "id": "FFCVyejfa2Ea",
   "metadata": {
    "id": "FFCVyejfa2Ea"
   },
   "outputs": [
    {
     "data": {
      "text/html": [
       "<div>\n",
       "<style scoped>\n",
       "    .dataframe tbody tr th:only-of-type {\n",
       "        vertical-align: middle;\n",
       "    }\n",
       "\n",
       "    .dataframe tbody tr th {\n",
       "        vertical-align: top;\n",
       "    }\n",
       "\n",
       "    .dataframe thead th {\n",
       "        text-align: right;\n",
       "    }\n",
       "</style>\n",
       "<table border=\"1\" class=\"dataframe\">\n",
       "  <thead>\n",
       "    <tr style=\"text-align: right;\">\n",
       "      <th></th>\n",
       "      <th>Age</th>\n",
       "      <th>Gender</th>\n",
       "      <th>Engineer</th>\n",
       "      <th>MBA</th>\n",
       "      <th>Work Exp</th>\n",
       "      <th>Salary</th>\n",
       "      <th>Distance</th>\n",
       "      <th>license</th>\n",
       "      <th>Transport</th>\n",
       "    </tr>\n",
       "  </thead>\n",
       "  <tbody>\n",
       "    <tr>\n",
       "      <th>0</th>\n",
       "      <td>28</td>\n",
       "      <td>Male</td>\n",
       "      <td>0</td>\n",
       "      <td>0</td>\n",
       "      <td>4</td>\n",
       "      <td>14.3</td>\n",
       "      <td>3.2</td>\n",
       "      <td>0</td>\n",
       "      <td>Public Transport</td>\n",
       "    </tr>\n",
       "    <tr>\n",
       "      <th>1</th>\n",
       "      <td>23</td>\n",
       "      <td>Female</td>\n",
       "      <td>1</td>\n",
       "      <td>0</td>\n",
       "      <td>4</td>\n",
       "      <td>8.3</td>\n",
       "      <td>3.3</td>\n",
       "      <td>0</td>\n",
       "      <td>Public Transport</td>\n",
       "    </tr>\n",
       "    <tr>\n",
       "      <th>2</th>\n",
       "      <td>29</td>\n",
       "      <td>Male</td>\n",
       "      <td>1</td>\n",
       "      <td>0</td>\n",
       "      <td>7</td>\n",
       "      <td>13.4</td>\n",
       "      <td>4.1</td>\n",
       "      <td>0</td>\n",
       "      <td>Public Transport</td>\n",
       "    </tr>\n",
       "    <tr>\n",
       "      <th>3</th>\n",
       "      <td>28</td>\n",
       "      <td>Female</td>\n",
       "      <td>1</td>\n",
       "      <td>1</td>\n",
       "      <td>5</td>\n",
       "      <td>13.4</td>\n",
       "      <td>4.5</td>\n",
       "      <td>0</td>\n",
       "      <td>Public Transport</td>\n",
       "    </tr>\n",
       "    <tr>\n",
       "      <th>4</th>\n",
       "      <td>27</td>\n",
       "      <td>Male</td>\n",
       "      <td>1</td>\n",
       "      <td>0</td>\n",
       "      <td>4</td>\n",
       "      <td>13.4</td>\n",
       "      <td>4.6</td>\n",
       "      <td>0</td>\n",
       "      <td>Public Transport</td>\n",
       "    </tr>\n",
       "  </tbody>\n",
       "</table>\n",
       "</div>"
      ],
      "text/plain": [
       "   Age  Gender  Engineer  MBA  Work Exp  Salary  Distance  license  \\\n",
       "0   28    Male         0    0         4    14.3       3.2        0   \n",
       "1   23  Female         1    0         4     8.3       3.3        0   \n",
       "2   29    Male         1    0         7    13.4       4.1        0   \n",
       "3   28  Female         1    1         5    13.4       4.5        0   \n",
       "4   27    Male         1    0         4    13.4       4.6        0   \n",
       "\n",
       "          Transport  \n",
       "0  Public Transport  \n",
       "1  Public Transport  \n",
       "2  Public Transport  \n",
       "3  Public Transport  \n",
       "4  Public Transport  "
      ]
     },
     "execution_count": 4,
     "metadata": {},
     "output_type": "execute_result"
    }
   ],
   "source": [
    "data.head() ##  top 5 rows of the data"
   ]
  },
  {
   "cell_type": "code",
   "execution_count": 5,
   "id": "BBnRk1Pfa2yI",
   "metadata": {
    "id": "BBnRk1Pfa2yI"
   },
   "outputs": [
    {
     "data": {
      "text/html": [
       "<div>\n",
       "<style scoped>\n",
       "    .dataframe tbody tr th:only-of-type {\n",
       "        vertical-align: middle;\n",
       "    }\n",
       "\n",
       "    .dataframe tbody tr th {\n",
       "        vertical-align: top;\n",
       "    }\n",
       "\n",
       "    .dataframe thead th {\n",
       "        text-align: right;\n",
       "    }\n",
       "</style>\n",
       "<table border=\"1\" class=\"dataframe\">\n",
       "  <thead>\n",
       "    <tr style=\"text-align: right;\">\n",
       "      <th></th>\n",
       "      <th>Age</th>\n",
       "      <th>Gender</th>\n",
       "      <th>Engineer</th>\n",
       "      <th>MBA</th>\n",
       "      <th>Work Exp</th>\n",
       "      <th>Salary</th>\n",
       "      <th>Distance</th>\n",
       "      <th>license</th>\n",
       "      <th>Transport</th>\n",
       "    </tr>\n",
       "  </thead>\n",
       "  <tbody>\n",
       "    <tr>\n",
       "      <th>439</th>\n",
       "      <td>40</td>\n",
       "      <td>Male</td>\n",
       "      <td>1</td>\n",
       "      <td>0</td>\n",
       "      <td>20</td>\n",
       "      <td>57.0</td>\n",
       "      <td>21.4</td>\n",
       "      <td>1</td>\n",
       "      <td>Private Transport</td>\n",
       "    </tr>\n",
       "    <tr>\n",
       "      <th>440</th>\n",
       "      <td>38</td>\n",
       "      <td>Male</td>\n",
       "      <td>1</td>\n",
       "      <td>0</td>\n",
       "      <td>19</td>\n",
       "      <td>44.0</td>\n",
       "      <td>21.5</td>\n",
       "      <td>1</td>\n",
       "      <td>Private Transport</td>\n",
       "    </tr>\n",
       "    <tr>\n",
       "      <th>441</th>\n",
       "      <td>37</td>\n",
       "      <td>Male</td>\n",
       "      <td>1</td>\n",
       "      <td>0</td>\n",
       "      <td>19</td>\n",
       "      <td>45.0</td>\n",
       "      <td>21.5</td>\n",
       "      <td>1</td>\n",
       "      <td>Private Transport</td>\n",
       "    </tr>\n",
       "    <tr>\n",
       "      <th>442</th>\n",
       "      <td>37</td>\n",
       "      <td>Male</td>\n",
       "      <td>0</td>\n",
       "      <td>0</td>\n",
       "      <td>19</td>\n",
       "      <td>47.0</td>\n",
       "      <td>22.8</td>\n",
       "      <td>1</td>\n",
       "      <td>Private Transport</td>\n",
       "    </tr>\n",
       "    <tr>\n",
       "      <th>443</th>\n",
       "      <td>39</td>\n",
       "      <td>Male</td>\n",
       "      <td>1</td>\n",
       "      <td>1</td>\n",
       "      <td>21</td>\n",
       "      <td>50.0</td>\n",
       "      <td>23.4</td>\n",
       "      <td>1</td>\n",
       "      <td>Private Transport</td>\n",
       "    </tr>\n",
       "  </tbody>\n",
       "</table>\n",
       "</div>"
      ],
      "text/plain": [
       "     Age Gender  Engineer  MBA  Work Exp  Salary  Distance  license  \\\n",
       "439   40   Male         1    0        20    57.0      21.4        1   \n",
       "440   38   Male         1    0        19    44.0      21.5        1   \n",
       "441   37   Male         1    0        19    45.0      21.5        1   \n",
       "442   37   Male         0    0        19    47.0      22.8        1   \n",
       "443   39   Male         1    1        21    50.0      23.4        1   \n",
       "\n",
       "             Transport  \n",
       "439  Private Transport  \n",
       "440  Private Transport  \n",
       "441  Private Transport  \n",
       "442  Private Transport  \n",
       "443  Private Transport  "
      ]
     },
     "execution_count": 5,
     "metadata": {},
     "output_type": "execute_result"
    }
   ],
   "source": [
    "data.tail() ##  last 5 rows of the data"
   ]
  },
  {
   "cell_type": "markdown",
   "id": "accessory-camel",
   "metadata": {
    "id": "accessory-camel"
   },
   "source": [
    "#### Understand the shape of the dataset"
   ]
  },
  {
   "cell_type": "code",
   "execution_count": 6,
   "id": "YzmErUYWa_8M",
   "metadata": {
    "id": "YzmErUYWa_8M"
   },
   "outputs": [
    {
     "data": {
      "text/plain": [
       "(444, 9)"
      ]
     },
     "execution_count": 6,
     "metadata": {},
     "output_type": "execute_result"
    }
   ],
   "source": [
    "data.shape ##view dimensions of the data"
   ]
  },
  {
   "cell_type": "markdown",
   "id": "789131d2-8e45-41a9-8112-6d573f8b26b4",
   "metadata": {},
   "source": [
    "* 444 rows and 9 columns"
   ]
  },
  {
   "cell_type": "markdown",
   "id": "assigned-berkeley",
   "metadata": {
    "id": "assigned-berkeley"
   },
   "source": [
    "#### Check the data types of the columns for the dataset"
   ]
  },
  {
   "cell_type": "code",
   "execution_count": 7,
   "id": "FO1wMkbGbuGw",
   "metadata": {
    "id": "FO1wMkbGbuGw"
   },
   "outputs": [
    {
     "name": "stdout",
     "output_type": "stream",
     "text": [
      "<class 'pandas.core.frame.DataFrame'>\n",
      "RangeIndex: 444 entries, 0 to 443\n",
      "Data columns (total 9 columns):\n",
      " #   Column     Non-Null Count  Dtype  \n",
      "---  ------     --------------  -----  \n",
      " 0   Age        444 non-null    int64  \n",
      " 1   Gender     444 non-null    object \n",
      " 2   Engineer   444 non-null    int64  \n",
      " 3   MBA        444 non-null    int64  \n",
      " 4   Work Exp   444 non-null    int64  \n",
      " 5   Salary     444 non-null    float64\n",
      " 6   Distance   444 non-null    float64\n",
      " 7   license    444 non-null    int64  \n",
      " 8   Transport  444 non-null    object \n",
      "dtypes: float64(2), int64(5), object(2)\n",
      "memory usage: 31.3+ KB\n"
     ]
    }
   ],
   "source": [
    "data.info() #code to data type of the data"
   ]
  },
  {
   "cell_type": "code",
   "execution_count": 8,
   "id": "going-validation",
   "metadata": {
    "colab": {
     "base_uri": "https://localhost:8080/"
    },
    "id": "going-validation",
    "outputId": "f1eb7350-bba3-4668-e726-e6fb262fe35d"
   },
   "outputs": [
    {
     "data": {
      "text/plain": [
       "0"
      ]
     },
     "execution_count": 8,
     "metadata": {},
     "output_type": "execute_result"
    }
   ],
   "source": [
    "# checking for duplicate values\n",
    "data.duplicated().sum()"
   ]
  },
  {
   "cell_type": "markdown",
   "id": "operating-operation",
   "metadata": {
    "id": "operating-operation"
   },
   "source": [
    "- There are no duplicate values in the data."
   ]
  },
  {
   "cell_type": "markdown",
   "id": "standing-horizontal",
   "metadata": {
    "id": "standing-horizontal"
   },
   "source": [
    "## Exploratory Data Analysis"
   ]
  },
  {
   "cell_type": "markdown",
   "id": "american-venue",
   "metadata": {
    "id": "american-venue"
   },
   "source": [
    "#### Let's check the statistical summary of the data"
   ]
  },
  {
   "cell_type": "code",
   "execution_count": 9,
   "id": "5E_5qdBScJXo",
   "metadata": {
    "id": "5E_5qdBScJXo"
   },
   "outputs": [
    {
     "data": {
      "text/html": [
       "<div>\n",
       "<style scoped>\n",
       "    .dataframe tbody tr th:only-of-type {\n",
       "        vertical-align: middle;\n",
       "    }\n",
       "\n",
       "    .dataframe tbody tr th {\n",
       "        vertical-align: top;\n",
       "    }\n",
       "\n",
       "    .dataframe thead th {\n",
       "        text-align: right;\n",
       "    }\n",
       "</style>\n",
       "<table border=\"1\" class=\"dataframe\">\n",
       "  <thead>\n",
       "    <tr style=\"text-align: right;\">\n",
       "      <th></th>\n",
       "      <th>Age</th>\n",
       "      <th>Engineer</th>\n",
       "      <th>MBA</th>\n",
       "      <th>Work Exp</th>\n",
       "      <th>Salary</th>\n",
       "      <th>Distance</th>\n",
       "      <th>license</th>\n",
       "    </tr>\n",
       "  </thead>\n",
       "  <tbody>\n",
       "    <tr>\n",
       "      <th>count</th>\n",
       "      <td>444.000000</td>\n",
       "      <td>444.000000</td>\n",
       "      <td>444.000000</td>\n",
       "      <td>444.000000</td>\n",
       "      <td>444.000000</td>\n",
       "      <td>444.000000</td>\n",
       "      <td>444.000000</td>\n",
       "    </tr>\n",
       "    <tr>\n",
       "      <th>mean</th>\n",
       "      <td>27.747748</td>\n",
       "      <td>0.754505</td>\n",
       "      <td>0.252252</td>\n",
       "      <td>6.299550</td>\n",
       "      <td>16.238739</td>\n",
       "      <td>11.323198</td>\n",
       "      <td>0.234234</td>\n",
       "    </tr>\n",
       "    <tr>\n",
       "      <th>std</th>\n",
       "      <td>4.416710</td>\n",
       "      <td>0.430866</td>\n",
       "      <td>0.434795</td>\n",
       "      <td>5.112098</td>\n",
       "      <td>10.453851</td>\n",
       "      <td>3.606149</td>\n",
       "      <td>0.423997</td>\n",
       "    </tr>\n",
       "    <tr>\n",
       "      <th>min</th>\n",
       "      <td>18.000000</td>\n",
       "      <td>0.000000</td>\n",
       "      <td>0.000000</td>\n",
       "      <td>0.000000</td>\n",
       "      <td>6.500000</td>\n",
       "      <td>3.200000</td>\n",
       "      <td>0.000000</td>\n",
       "    </tr>\n",
       "    <tr>\n",
       "      <th>25%</th>\n",
       "      <td>25.000000</td>\n",
       "      <td>1.000000</td>\n",
       "      <td>0.000000</td>\n",
       "      <td>3.000000</td>\n",
       "      <td>9.800000</td>\n",
       "      <td>8.800000</td>\n",
       "      <td>0.000000</td>\n",
       "    </tr>\n",
       "    <tr>\n",
       "      <th>50%</th>\n",
       "      <td>27.000000</td>\n",
       "      <td>1.000000</td>\n",
       "      <td>0.000000</td>\n",
       "      <td>5.000000</td>\n",
       "      <td>13.600000</td>\n",
       "      <td>11.000000</td>\n",
       "      <td>0.000000</td>\n",
       "    </tr>\n",
       "    <tr>\n",
       "      <th>75%</th>\n",
       "      <td>30.000000</td>\n",
       "      <td>1.000000</td>\n",
       "      <td>1.000000</td>\n",
       "      <td>8.000000</td>\n",
       "      <td>15.725000</td>\n",
       "      <td>13.425000</td>\n",
       "      <td>0.000000</td>\n",
       "    </tr>\n",
       "    <tr>\n",
       "      <th>max</th>\n",
       "      <td>43.000000</td>\n",
       "      <td>1.000000</td>\n",
       "      <td>1.000000</td>\n",
       "      <td>24.000000</td>\n",
       "      <td>57.000000</td>\n",
       "      <td>23.400000</td>\n",
       "      <td>1.000000</td>\n",
       "    </tr>\n",
       "  </tbody>\n",
       "</table>\n",
       "</div>"
      ],
      "text/plain": [
       "              Age    Engineer         MBA    Work Exp      Salary    Distance  \\\n",
       "count  444.000000  444.000000  444.000000  444.000000  444.000000  444.000000   \n",
       "mean    27.747748    0.754505    0.252252    6.299550   16.238739   11.323198   \n",
       "std      4.416710    0.430866    0.434795    5.112098   10.453851    3.606149   \n",
       "min     18.000000    0.000000    0.000000    0.000000    6.500000    3.200000   \n",
       "25%     25.000000    1.000000    0.000000    3.000000    9.800000    8.800000   \n",
       "50%     27.000000    1.000000    0.000000    5.000000   13.600000   11.000000   \n",
       "75%     30.000000    1.000000    1.000000    8.000000   15.725000   13.425000   \n",
       "max     43.000000    1.000000    1.000000   24.000000   57.000000   23.400000   \n",
       "\n",
       "          license  \n",
       "count  444.000000  \n",
       "mean     0.234234  \n",
       "std      0.423997  \n",
       "min      0.000000  \n",
       "25%      0.000000  \n",
       "50%      0.000000  \n",
       "75%      0.000000  \n",
       "max      1.000000  "
      ]
     },
     "execution_count": 9,
     "metadata": {},
     "output_type": "execute_result"
    }
   ],
   "source": [
    "data.describe() ##the statistical summary of the data"
   ]
  },
  {
   "cell_type": "code",
   "execution_count": 10,
   "id": "4a97e9f5-0982-4592-843c-41b9e8d39fc9",
   "metadata": {},
   "outputs": [
    {
     "data": {
      "text/plain": [
       "MBA\n",
       "0    332\n",
       "1    112\n",
       "Name: count, dtype: int64"
      ]
     },
     "execution_count": 10,
     "metadata": {},
     "output_type": "execute_result"
    }
   ],
   "source": [
    "data['MBA'].value_counts()"
   ]
  },
  {
   "cell_type": "code",
   "execution_count": 11,
   "id": "1bd69ab0-5c74-4d98-9158-a150014dd803",
   "metadata": {},
   "outputs": [
    {
     "data": {
      "text/plain": [
       "Engineer\n",
       "1    335\n",
       "0    109\n",
       "Name: count, dtype: int64"
      ]
     },
     "execution_count": 11,
     "metadata": {},
     "output_type": "execute_result"
    }
   ],
   "source": [
    "data['Engineer'].value_counts()"
   ]
  },
  {
   "cell_type": "code",
   "execution_count": 12,
   "id": "37e66cce-0284-4211-95a1-e448e682b6f8",
   "metadata": {},
   "outputs": [
    {
     "data": {
      "text/plain": [
       "license\n",
       "0    340\n",
       "1    104\n",
       "Name: count, dtype: int64"
      ]
     },
     "execution_count": 12,
     "metadata": {},
     "output_type": "execute_result"
    }
   ],
   "source": [
    "data['license'].value_counts()"
   ]
  },
  {
   "cell_type": "markdown",
   "id": "0d03c12b-285d-4eca-869e-9b12e70d75cc",
   "metadata": {},
   "source": [
    "### Observations \n",
    "\n",
    "- **Age**: The average age is approximately 27.75 years, with a standard deviation of 4.42 years. This suggests a relatively young workforce.\n",
    "\n",
    "- **Engineer**: Maximum individuals in ABC Consulting company are engineers.\n",
    "\n",
    "- **MBA**: There are 112 individuals in company who are MBA graduates.\n",
    "\n",
    "- **Work Experience**: The average work experience is around 6.3 years, with a standard deviation of 5.11 years, indicating a mix of early to mid-career professionals.\n",
    "\n",
    "- **Salary**: The average salary is approximately 16.2(in lakhs). \n",
    "\n",
    "- **Distance**: The average commute distance is about 11.32 km, with a standard deviation of 3.61 km, indicating moderate variation in commuting distances.\n",
    "\n",
    "- **License**: Only 23% individuals(104 in count) have license.\n",
    "\n",
    "These insights provide a snapshot of the demographic and professional characteristics of the dataset. "
   ]
  },
  {
   "cell_type": "code",
   "execution_count": 13,
   "id": "99dc6e89-0e71-4064-affb-983f69a32fd8",
   "metadata": {},
   "outputs": [
    {
     "data": {
      "text/html": [
       "<div>\n",
       "<style scoped>\n",
       "    .dataframe tbody tr th:only-of-type {\n",
       "        vertical-align: middle;\n",
       "    }\n",
       "\n",
       "    .dataframe tbody tr th {\n",
       "        vertical-align: top;\n",
       "    }\n",
       "\n",
       "    .dataframe thead th {\n",
       "        text-align: right;\n",
       "    }\n",
       "</style>\n",
       "<table border=\"1\" class=\"dataframe\">\n",
       "  <thead>\n",
       "    <tr style=\"text-align: right;\">\n",
       "      <th></th>\n",
       "      <th>Gender</th>\n",
       "      <th>Transport</th>\n",
       "    </tr>\n",
       "  </thead>\n",
       "  <tbody>\n",
       "    <tr>\n",
       "      <th>count</th>\n",
       "      <td>444</td>\n",
       "      <td>444</td>\n",
       "    </tr>\n",
       "    <tr>\n",
       "      <th>unique</th>\n",
       "      <td>2</td>\n",
       "      <td>2</td>\n",
       "    </tr>\n",
       "    <tr>\n",
       "      <th>top</th>\n",
       "      <td>Male</td>\n",
       "      <td>Public Transport</td>\n",
       "    </tr>\n",
       "    <tr>\n",
       "      <th>freq</th>\n",
       "      <td>316</td>\n",
       "      <td>300</td>\n",
       "    </tr>\n",
       "  </tbody>\n",
       "</table>\n",
       "</div>"
      ],
      "text/plain": [
       "       Gender         Transport\n",
       "count     444               444\n",
       "unique      2                 2\n",
       "top      Male  Public Transport\n",
       "freq      316               300"
      ]
     },
     "execution_count": 13,
     "metadata": {},
     "output_type": "execute_result"
    }
   ],
   "source": [
    "data.describe(include='object') ##the statistical summary of the data of categorical variables"
   ]
  },
  {
   "cell_type": "markdown",
   "id": "6c176a4a-5832-4c1f-8f21-61df83c829be",
   "metadata": {},
   "source": [
    "- **Gender**: Male individuals are more in number than Female.\n",
    "- **Transport**: Mostly people prefer public transport."
   ]
  },
  {
   "cell_type": "markdown",
   "id": "cutting-bookmark",
   "metadata": {
    "id": "cutting-bookmark"
   },
   "source": [
    "#### Let's check the count of each unique category in each of the categorical variables"
   ]
  },
  {
   "cell_type": "code",
   "execution_count": 14,
   "id": "minute-helmet",
   "metadata": {
    "colab": {
     "base_uri": "https://localhost:8080/"
    },
    "id": "minute-helmet",
    "outputId": "ee7ace2b-db52-4268-ce58-3ed79488d725"
   },
   "outputs": [
    {
     "name": "stdout",
     "output_type": "stream",
     "text": [
      "Gender\n",
      "Male      316\n",
      "Female    128\n",
      "Name: count, dtype: int64\n",
      "--------------------------------------------------\n",
      "Transport\n",
      "Public Transport     300\n",
      "Private Transport    144\n",
      "Name: count, dtype: int64\n",
      "--------------------------------------------------\n"
     ]
    }
   ],
   "source": [
    "# Making a list of all catrgorical variables\n",
    "cat_col = list(data.select_dtypes(\"object\").columns)\n",
    "\n",
    "# Printing number of count of each unique value in each column\n",
    "for column in cat_col:\n",
    "    print(data[column].value_counts())\n",
    "    print(\"-\" * 50)"
   ]
  },
  {
   "cell_type": "markdown",
   "id": "wooden-christian",
   "metadata": {
    "id": "wooden-christian"
   },
   "source": [
    "### Univariate Analysis - It is a statistical method that examines a single variable in a data set"
   ]
  },
  {
   "cell_type": "code",
   "execution_count": 15,
   "id": "superb-springfield",
   "metadata": {
    "id": "superb-springfield"
   },
   "outputs": [],
   "source": [
    "def histogram_boxplot(data, feature, figsize=(15, 10), kde=False, bins=None):\n",
    "    \"\"\"\n",
    "    Boxplot and histogram combined\n",
    "\n",
    "    data: dataframe\n",
    "    feature: dataframe column\n",
    "    figsize: size of figure (default (15,10))\n",
    "    kde: whether to show the density curve (default False)\n",
    "    bins: number of bins for histogram (default None)\n",
    "    \"\"\"\n",
    "    f2, (ax_box2, ax_hist2) = plt.subplots(\n",
    "        nrows=2,  # Number of rows of the subplot grid= 2\n",
    "        sharex=True,  # x-axis will be shared among all subplots\n",
    "        gridspec_kw={\"height_ratios\": (0.25, 0.75)},\n",
    "        figsize=figsize,\n",
    "    )  # creating the 2 subplots\n",
    "    sns.boxplot(\n",
    "        data=data, x=feature, ax=ax_box2, showmeans=True, color=\"violet\"\n",
    "    )  # boxplot will be created and a triangle will indicate the mean value of the column\n",
    "    sns.histplot(\n",
    "        data=data, x=feature, kde=kde, ax=ax_hist2, bins=bins\n",
    "    ) if bins else sns.histplot(\n",
    "        data=data, x=feature, kde=kde, ax=ax_hist2\n",
    "    )  # For histogram\n",
    "    ax_hist2.axvline( #vertical lines on a plot at a specific x-coordinate\n",
    "        data[feature].mean(), color=\"green\", linestyle=\"--\"\n",
    "    )  # Add mean to the histogram\n",
    "    ax_hist2.axvline(\n",
    "        data[feature].median(), color=\"black\", linestyle=\"-\"\n",
    "    )  # Add median to the histogram"
   ]
  },
  {
   "cell_type": "markdown",
   "id": "comic-inventory",
   "metadata": {
    "id": "comic-inventory"
   },
   "source": [
    "#### Observations on age"
   ]
  },
  {
   "cell_type": "code",
   "execution_count": 16,
   "id": "loaded-commercial",
   "metadata": {
    "colab": {
     "base_uri": "https://localhost:8080/",
     "height": 706
    },
    "id": "loaded-commercial",
    "outputId": "9f8c76ea-0395-4520-c52c-009aee707104"
   },
   "outputs": [
    {
     "data": {
      "image/png": "[encoded data removed]",
      "text/plain": [
       "<Figure size 1500x1000 with 2 Axes>"
      ]
     },
     "metadata": {},
     "output_type": "display_data"
    }
   ],
   "source": [
    "histogram_boxplot(data, \"Age\")"
   ]
  },
  {
   "cell_type": "markdown",
   "id": "upset-merit",
   "metadata": {
    "id": "upset-merit"
   },
   "source": [
    "* The distribution of the age is right skewed\n"
   ]
  },
  {
   "cell_type": "markdown",
   "id": "metric-apparel",
   "metadata": {
    "id": "metric-apparel"
   },
   "source": [
    "#### Observations on work experience"
   ]
  },
  {
   "cell_type": "code",
   "execution_count": 17,
   "id": "_Jd9tHlTc45S",
   "metadata": {
    "id": "_Jd9tHlTc45S"
   },
   "outputs": [
    {
     "data": {
      "image/png": "[encoded data removed]",
      "text/plain": [
       "<Figure size 1500x1000 with 2 Axes>"
      ]
     },
     "metadata": {},
     "output_type": "display_data"
    }
   ],
   "source": [
    "histogram_boxplot(data, 'Work Exp')"
   ]
  },
  {
   "cell_type": "markdown",
   "id": "a9866a29-1ae2-4440-8fbc-663f25e70778",
   "metadata": {},
   "source": [
    "* Work Experience is also right-skewed (positively skewed)"
   ]
  },
  {
   "cell_type": "code",
   "execution_count": 18,
   "id": "proof-drove",
   "metadata": {
    "id": "proof-drove"
   },
   "outputs": [],
   "source": [
    "# function to create labeled barplots\n",
    "def labeled_barplot(data, feature, perc=False, n=None):\n",
    "    \"\"\"\n",
    "    Barplot with percentage at the top\n",
    "\n",
    "    data: dataframe\n",
    "    feature: dataframe column\n",
    "    perc: whether to display percentages instead of count (default is False)\n",
    "    n: displays the top n category levels (default is None, i.e., display all levels)\n",
    "    \"\"\"\n",
    "\n",
    "    total = len(data[feature])  # length of the column\n",
    "    count = data[feature].nunique()\n",
    "    if n is None:\n",
    "        plt.figure(figsize=(count + 2, 6))\n",
    "    else:\n",
    "        plt.figure(figsize=(n + 2, 6))\n",
    "\n",
    "    plt.xticks(rotation=90, fontsize=15)\n",
    "    ax = sns.countplot(\n",
    "        data=data,\n",
    "        x=feature,\n",
    "        palette=\"Paired\",\n",
    "        order=data[feature].value_counts().index[:n],\n",
    "    )\n",
    "\n",
    "    for p in ax.patches:\n",
    "        if perc == True:\n",
    "            label = \"{:.1f}%\".format(\n",
    "                100 * p.get_height() / total\n",
    "            )  # percentage of each class of the category\n",
    "        else:\n",
    "            label = p.get_height()  # count of each level of the category\n",
    "\n",
    "        x = p.get_x() + p.get_width() / 2  # width of the plot\n",
    "        y = p.get_height()  # height of the plot\n",
    "\n",
    "        ax.annotate(\n",
    "            label,\n",
    "            (x, y),\n",
    "            ha=\"center\",\n",
    "            va=\"center\",\n",
    "            size=12,\n",
    "            xytext=(0, 5),\n",
    "            textcoords=\"offset points\",\n",
    "        )  # annotate the percentage\n",
    "\n",
    "    plt.show()  # show the plot"
   ]
  },
  {
   "cell_type": "markdown",
   "id": "bulgarian-parts",
   "metadata": {
    "id": "bulgarian-parts"
   },
   "source": [
    "#### Observations on Gender"
   ]
  },
  {
   "cell_type": "code",
   "execution_count": 19,
   "id": "artistic-accounting",
   "metadata": {
    "colab": {
     "base_uri": "https://localhost:8080/",
     "height": 603
    },
    "id": "artistic-accounting",
    "outputId": "2b101104-7c5b-496b-d373-064cda81cd46"
   },
   "outputs": [
    {
     "data": {
      "image/png": "[encoded data removed]",
      "text/plain": [
       "<Figure size 400x600 with 1 Axes>"
      ]
     },
     "metadata": {},
     "output_type": "display_data"
    }
   ],
   "source": [
    "labeled_barplot(data, \"Gender\", perc=True)"
   ]
  },
  {
   "cell_type": "markdown",
   "id": "editorial-command",
   "metadata": {
    "id": "editorial-command"
   },
   "source": [
    "#### Observations on Transport preferred"
   ]
  },
  {
   "cell_type": "code",
   "execution_count": 20,
   "id": "uk1lp-MwdThX",
   "metadata": {
    "id": "uk1lp-MwdThX"
   },
   "outputs": [
    {
     "data": {
      "image/png": "[encoded data removed]",
      "text/plain": [
       "<Figure size 400x600 with 1 Axes>"
      ]
     },
     "metadata": {},
     "output_type": "display_data"
    }
   ],
   "source": [
    "labeled_barplot(data,\"Transport\",perc=True)"
   ]
  },
  {
   "cell_type": "markdown",
   "id": "equivalent-aging",
   "metadata": {
    "id": "equivalent-aging"
   },
   "source": [
    "### Bivariate Analysis - It is a statistical method used to investigate the relationship between two variables. "
   ]
  },
  {
   "cell_type": "code",
   "execution_count": 21,
   "id": "FVTo3VYpd93H",
   "metadata": {
    "id": "FVTo3VYpd93H"
   },
   "outputs": [
    {
     "data": {
      "image/png": "[encoded data removed]",
      "text/plain": [
       "<Figure size 1000x500 with 2 Axes>"
      ]
     },
     "metadata": {},
     "output_type": "display_data"
    }
   ],
   "source": [
    "cols_list = data.select_dtypes(include=np.number).columns.tolist()\n",
    "\n",
    "plt.figure(figsize=(10, 5))\n",
    "sns.heatmap(\n",
    "    data[cols_list].corr(), annot=True, vmin=-1, vmax=1, fmt=\".2f\", cmap=\"Spectral\"\n",
    ")\n",
    "plt.show()"
   ]
  },
  {
   "cell_type": "code",
   "execution_count": 22,
   "id": "cae3746d-4c25-4b5e-b4ce-e10bea25bb30",
   "metadata": {},
   "outputs": [
    {
     "data": {
      "text/html": [
       "<div>\n",
       "<style scoped>\n",
       "    .dataframe tbody tr th:only-of-type {\n",
       "        vertical-align: middle;\n",
       "    }\n",
       "\n",
       "    .dataframe tbody tr th {\n",
       "        vertical-align: top;\n",
       "    }\n",
       "\n",
       "    .dataframe thead th {\n",
       "        text-align: right;\n",
       "    }\n",
       "</style>\n",
       "<table border=\"1\" class=\"dataframe\">\n",
       "  <thead>\n",
       "    <tr style=\"text-align: right;\">\n",
       "      <th></th>\n",
       "      <th>Age</th>\n",
       "      <th>Engineer</th>\n",
       "      <th>MBA</th>\n",
       "      <th>Work Exp</th>\n",
       "      <th>Salary</th>\n",
       "      <th>Distance</th>\n",
       "      <th>license</th>\n",
       "    </tr>\n",
       "  </thead>\n",
       "  <tbody>\n",
       "    <tr>\n",
       "      <th>Age</th>\n",
       "      <td>1.000000</td>\n",
       "      <td>0.091935</td>\n",
       "      <td>-0.029090</td>\n",
       "      <td>0.932236</td>\n",
       "      <td>0.860673</td>\n",
       "      <td>0.352872</td>\n",
       "      <td>0.452311</td>\n",
       "    </tr>\n",
       "    <tr>\n",
       "      <th>Engineer</th>\n",
       "      <td>0.091935</td>\n",
       "      <td>1.000000</td>\n",
       "      <td>0.066218</td>\n",
       "      <td>0.085729</td>\n",
       "      <td>0.086762</td>\n",
       "      <td>0.059316</td>\n",
       "      <td>0.018924</td>\n",
       "    </tr>\n",
       "    <tr>\n",
       "      <th>MBA</th>\n",
       "      <td>-0.029090</td>\n",
       "      <td>0.066218</td>\n",
       "      <td>1.000000</td>\n",
       "      <td>0.008582</td>\n",
       "      <td>-0.007270</td>\n",
       "      <td>0.036427</td>\n",
       "      <td>-0.027358</td>\n",
       "    </tr>\n",
       "    <tr>\n",
       "      <th>Work Exp</th>\n",
       "      <td>0.932236</td>\n",
       "      <td>0.085729</td>\n",
       "      <td>0.008582</td>\n",
       "      <td>1.000000</td>\n",
       "      <td>0.931974</td>\n",
       "      <td>0.372735</td>\n",
       "      <td>0.452867</td>\n",
       "    </tr>\n",
       "    <tr>\n",
       "      <th>Salary</th>\n",
       "      <td>0.860673</td>\n",
       "      <td>0.086762</td>\n",
       "      <td>-0.007270</td>\n",
       "      <td>0.931974</td>\n",
       "      <td>1.000000</td>\n",
       "      <td>0.442359</td>\n",
       "      <td>0.508095</td>\n",
       "    </tr>\n",
       "    <tr>\n",
       "      <th>Distance</th>\n",
       "      <td>0.352872</td>\n",
       "      <td>0.059316</td>\n",
       "      <td>0.036427</td>\n",
       "      <td>0.372735</td>\n",
       "      <td>0.442359</td>\n",
       "      <td>1.000000</td>\n",
       "      <td>0.290084</td>\n",
       "    </tr>\n",
       "    <tr>\n",
       "      <th>license</th>\n",
       "      <td>0.452311</td>\n",
       "      <td>0.018924</td>\n",
       "      <td>-0.027358</td>\n",
       "      <td>0.452867</td>\n",
       "      <td>0.508095</td>\n",
       "      <td>0.290084</td>\n",
       "      <td>1.000000</td>\n",
       "    </tr>\n",
       "  </tbody>\n",
       "</table>\n",
       "</div>"
      ],
      "text/plain": [
       "               Age  Engineer       MBA  Work Exp    Salary  Distance   license\n",
       "Age       1.000000  0.091935 -0.029090  0.932236  0.860673  0.352872  0.452311\n",
       "Engineer  0.091935  1.000000  0.066218  0.085729  0.086762  0.059316  0.018924\n",
       "MBA      -0.029090  0.066218  1.000000  0.008582 -0.007270  0.036427 -0.027358\n",
       "Work Exp  0.932236  0.085729  0.008582  1.000000  0.931974  0.372735  0.452867\n",
       "Salary    0.860673  0.086762 -0.007270  0.931974  1.000000  0.442359  0.508095\n",
       "Distance  0.352872  0.059316  0.036427  0.372735  0.442359  1.000000  0.290084\n",
       "license   0.452311  0.018924 -0.027358  0.452867  0.508095  0.290084  1.000000"
      ]
     },
     "execution_count": 22,
     "metadata": {},
     "output_type": "execute_result"
    }
   ],
   "source": [
    "data[cols_list].corr()"
   ]
  },
  {
   "cell_type": "markdown",
   "id": "4864e49a-bbc8-44af-ad06-a35dacdfffc9",
   "metadata": {},
   "source": [
    "**Observations from the Correlation Matrix:**\n",
    "\n",
    "- **Age and Work Experience:** A strong positive correlation (0.93) indicates that older employees tend to have more work experience.\n",
    "\n",
    "- **Age and Salary:** A strong positive correlation (0.86) suggests that older employees generally earn higher salaries.\n",
    "\n",
    "- **Work Experience and Salary:** A strong positive correlation (0.93) implies that employees with more work experience typically have higher salaries.\n",
    "\n",
    "- **Distance and Salary:** A moderate positive correlation (0.44) indicates that employees with longer commutes tend to have higher salaries.\n",
    "\n",
    "- **License and Salary:** A moderate positive correlation (0.51) suggests that employees with a driving license generally earn higher salaries.\n",
    "\n",
    "**There is a strong correlation between age, salary, and work experience, as age increases, so do work experience and salary, while salary also shows some correlation with the license and distance variable.**"
   ]
  },
  {
   "cell_type": "code",
   "execution_count": 23,
   "id": "third-sheriff",
   "metadata": {
    "id": "third-sheriff"
   },
   "outputs": [],
   "source": [
    "def stacked_barplot(data, predictor, target):\n",
    "    \"\"\"\n",
    "    Print the category counts and plot a stacked bar chart\n",
    "\n",
    "    data: dataframe\n",
    "    predictor: independent variable\n",
    "    target: target variable\n",
    "    \"\"\"\n",
    "    count = data[predictor].nunique()\n",
    "    sorter = data[target].value_counts().index[-1]\n",
    "    tab1 = pd.crosstab(data[predictor], data[target], margins=True).sort_values(\n",
    "        by=sorter, ascending=False\n",
    "    )\n",
    "    print(tab1)\n",
    "    print(\"-\" * 120)\n",
    "    tab = pd.crosstab(data[predictor], data[target], normalize=\"index\").sort_values(\n",
    "        by=sorter, ascending=False\n",
    "    )\n",
    "    tab.plot(kind=\"bar\", stacked=True, figsize=(count + 5, 5))\n",
    "    plt.legend(\n",
    "        loc=\"lower left\", frameon=False,\n",
    "    )\n",
    "    plt.legend(loc=\"upper left\", bbox_to_anchor=(1, 1))\n",
    "    plt.show()"
   ]
  },
  {
   "cell_type": "markdown",
   "id": "dressed-excuse",
   "metadata": {
    "id": "dressed-excuse"
   },
   "source": [
    "#### Let's find out if Gender  has any impact on Transport Preference"
   ]
  },
  {
   "cell_type": "code",
   "execution_count": 24,
   "id": "kneEFeszecFn",
   "metadata": {
    "id": "kneEFeszecFn"
   },
   "outputs": [
    {
     "name": "stdout",
     "output_type": "stream",
     "text": [
      "Transport  Private Transport  Public Transport  All\n",
      "Gender                                             \n",
      "All                      144               300  444\n",
      "Male                      93               223  316\n",
      "Female                    51                77  128\n",
      "------------------------------------------------------------------------------------------------------------------------\n"
     ]
    },
    {
     "data": {
      "image/png": "[encoded data removed]",
      "text/plain": [
       "<Figure size 700x500 with 1 Axes>"
      ]
     },
     "metadata": {},
     "output_type": "display_data"
    }
   ],
   "source": [
    "stacked_barplot(data, \"Gender\", \"Transport\")"
   ]
  },
  {
   "cell_type": "markdown",
   "id": "20717146-c10f-416b-ba96-2607a7ca9104",
   "metadata": {},
   "source": [
    "- The  stacked barblot reveals a higher usage of public transport compared to private transport, with more males using both transport types than females.\n",
    "- In contrast, females show a more balanced usage between private and public transport, with 51 females using private transport and 77 using public transport."
   ]
  },
  {
   "cell_type": "markdown",
   "id": "ofYxeRyTew8A",
   "metadata": {
    "id": "ofYxeRyTew8A"
   },
   "source": [
    "Checking if the Work Experience  of the employee has any relation with preference of the transport"
   ]
  },
  {
   "cell_type": "code",
   "execution_count": 25,
   "id": "Qv0NOZqUiIZ4",
   "metadata": {
    "colab": {
     "base_uri": "https://localhost:8080/",
     "height": 467
    },
    "id": "Qv0NOZqUiIZ4",
    "outputId": "ddb618c1-f6ef-4213-9b5d-05f3ae8aa10d"
   },
   "outputs": [
    {
     "data": {
      "image/png": "[encoded data removed]",
      "text/plain": [
       "<Figure size 1000x500 with 1 Axes>"
      ]
     },
     "metadata": {},
     "output_type": "display_data"
    }
   ],
   "source": [
    "plt.figure(figsize=(10, 5))\n",
    "sns.boxplot(data=data, x=\"Work Exp\", y=\"Transport\")\n",
    "plt.show()"
   ]
  },
  {
   "cell_type": "markdown",
   "id": "d92a4959-bfe7-4248-a06a-ea7fdfba9861",
   "metadata": {},
   "source": [
    "* Individuals using private transport generally have more work experience than those using public transport.\n",
    "* **For Public Transport:**\n",
    "    - Interquartile Range (IQR): ~2 to 13 years\n",
    "    - Median Work Experience: ~5 years\n",
    "    - Whiskers: ~(0-3),(7-13) years\n",
    "    - Outliers: 3 outliers around 14, 16, and 18 years\n",
    "* **For Private Transport:**\n",
    "    - Interquartile Range (IQR): ~3 to 14 years\n",
    "    - Median Work Experience: ~7 years\n",
    "    - Whiskers: ~(0-3) to (14-24) years\n",
    "    - Outliers: None"
   ]
  },
  {
   "cell_type": "markdown",
   "id": "changing-kansas",
   "metadata": {
    "id": "changing-kansas"
   },
   "source": [
    "#### Checking if the Age of the employee has any relation with preference of the Transport"
   ]
  },
  {
   "cell_type": "code",
   "execution_count": 26,
   "id": "FiFNuWbIejTd",
   "metadata": {
    "id": "FiFNuWbIejTd"
   },
   "outputs": [
    {
     "data": {
      "image/png": "[encoded data removed]",
      "text/plain": [
       "<Figure size 1000x500 with 1 Axes>"
      ]
     },
     "metadata": {},
     "output_type": "display_data"
    }
   ],
   "source": [
    "plt.figure(figsize=(10, 5))\n",
    "sns.boxplot(data=data, x=\"Age\", y=\"Transport\")\n",
    "plt.show()"
   ]
  },
  {
   "cell_type": "markdown",
   "id": "7e88b63f-e95e-4179-b985-6e24dca352d2",
   "metadata": {},
   "source": [
    "* Private Transport exhibits a wider range of ages, suggesting it accommodates a more diverse age group.\n",
    "* Public Transport users are generally within a narrower age range, with a couple of notable exceptions.\n",
    "* **For Public Transport:**\n",
    "    - Interquartile Range (IQR): 25 to 29 years\n",
    "    - Median Age: ~28.5 years\n",
    "    - Whiskers: (19-25) to (29-35) years\n",
    "    - Outliers: One around 20 years and another around 38 years\n",
    "* **For Private Transport:**\n",
    "    - Interquartile Range (IQR): 24 to 34 years\n",
    "    - Median Work Experience: ~28.5 years\n",
    "    - Whiskers: 18 to 44 years\n",
    "    - Outliers: None\n",
    " \n",
    "**Younger employees tend to prefer public transport, while older employees are more likely to use private transport.**"
   ]
  },
  {
   "cell_type": "markdown",
   "id": "qBWlk20UBUAx",
   "metadata": {
    "id": "qBWlk20UBUAx"
   },
   "source": [
    "## Data Pre-processing"
   ]
  },
  {
   "cell_type": "markdown",
   "id": "allied-association",
   "metadata": {
    "id": "allied-association"
   },
   "source": [
    "### Outlier Check\n",
    "\n",
    "- Let's check for outliers in the data."
   ]
  },
  {
   "cell_type": "code",
   "execution_count": 27,
   "id": "8B40YuUMfmSK",
   "metadata": {
    "id": "8B40YuUMfmSK"
   },
   "outputs": [
    {
     "data": {
      "image/png": "[encoded data removed]",
      "text/plain": [
       "<Figure size 1500x1200 with 7 Axes>"
      ]
     },
     "metadata": {},
     "output_type": "display_data"
    }
   ],
   "source": [
    "# outlier detection using boxplot\n",
    "numeric_columns = data.select_dtypes(include=np.number).columns.tolist()\n",
    "\n",
    "\n",
    "plt.figure(figsize=(15, 12))\n",
    "\n",
    "for i, variable in enumerate(numeric_columns):\n",
    "    plt.subplot(len(numeric_columns), 1, i + 1)\n",
    "    sns.boxplot(data=data, x=variable)\n",
    "    plt.title(f'Boxplot of {variable}')\n",
    "\n",
    "plt.tight_layout()  # Adjust spacing to prevent overlap\n",
    "plt.show()"
   ]
  },
  {
   "cell_type": "markdown",
   "id": "4a87e00c-9ae1-424a-b91f-3f5d8cc59802",
   "metadata": {},
   "source": [
    "**While there are outliers in the Age, Work experience, Salary and Distance variables, they are not extreme enough to affect the dataset's integrity. These outliers are slightly above the upper limit but remain within an acceptable range, so we are not addressing them.**"
   ]
  },
  {
   "cell_type": "markdown",
   "id": "flexible-independence",
   "metadata": {
    "id": "flexible-independence"
   },
   "source": [
    "### Data Preparation for modeling\n",
    "\n",
    "- Before we proceed to build a model, we'll have to encode categorical features.\n",
    "- We'll split the data into train and test to be able to evaluate the model that we build on the train data."
   ]
  },
  {
   "cell_type": "code",
   "execution_count": 28,
   "id": "ff613ef5-d76f-48dd-a7b2-ff96d0b53361",
   "metadata": {},
   "outputs": [
    {
     "data": {
      "text/html": [
       "<div>\n",
       "<style scoped>\n",
       "    .dataframe tbody tr th:only-of-type {\n",
       "        vertical-align: middle;\n",
       "    }\n",
       "\n",
       "    .dataframe tbody tr th {\n",
       "        vertical-align: top;\n",
       "    }\n",
       "\n",
       "    .dataframe thead th {\n",
       "        text-align: right;\n",
       "    }\n",
       "</style>\n",
       "<table border=\"1\" class=\"dataframe\">\n",
       "  <thead>\n",
       "    <tr style=\"text-align: right;\">\n",
       "      <th></th>\n",
       "      <th>Age</th>\n",
       "      <th>Gender</th>\n",
       "      <th>Engineer</th>\n",
       "      <th>MBA</th>\n",
       "      <th>Work Exp</th>\n",
       "      <th>Salary</th>\n",
       "      <th>Distance</th>\n",
       "      <th>license</th>\n",
       "      <th>Transport</th>\n",
       "    </tr>\n",
       "  </thead>\n",
       "  <tbody>\n",
       "    <tr>\n",
       "      <th>0</th>\n",
       "      <td>28</td>\n",
       "      <td>Male</td>\n",
       "      <td>0</td>\n",
       "      <td>0</td>\n",
       "      <td>4</td>\n",
       "      <td>14.3</td>\n",
       "      <td>3.2</td>\n",
       "      <td>0</td>\n",
       "      <td>Public Transport</td>\n",
       "    </tr>\n",
       "    <tr>\n",
       "      <th>1</th>\n",
       "      <td>23</td>\n",
       "      <td>Female</td>\n",
       "      <td>1</td>\n",
       "      <td>0</td>\n",
       "      <td>4</td>\n",
       "      <td>8.3</td>\n",
       "      <td>3.3</td>\n",
       "      <td>0</td>\n",
       "      <td>Public Transport</td>\n",
       "    </tr>\n",
       "    <tr>\n",
       "      <th>2</th>\n",
       "      <td>29</td>\n",
       "      <td>Male</td>\n",
       "      <td>1</td>\n",
       "      <td>0</td>\n",
       "      <td>7</td>\n",
       "      <td>13.4</td>\n",
       "      <td>4.1</td>\n",
       "      <td>0</td>\n",
       "      <td>Public Transport</td>\n",
       "    </tr>\n",
       "    <tr>\n",
       "      <th>3</th>\n",
       "      <td>28</td>\n",
       "      <td>Female</td>\n",
       "      <td>1</td>\n",
       "      <td>1</td>\n",
       "      <td>5</td>\n",
       "      <td>13.4</td>\n",
       "      <td>4.5</td>\n",
       "      <td>0</td>\n",
       "      <td>Public Transport</td>\n",
       "    </tr>\n",
       "    <tr>\n",
       "      <th>4</th>\n",
       "      <td>27</td>\n",
       "      <td>Male</td>\n",
       "      <td>1</td>\n",
       "      <td>0</td>\n",
       "      <td>4</td>\n",
       "      <td>13.4</td>\n",
       "      <td>4.6</td>\n",
       "      <td>0</td>\n",
       "      <td>Public Transport</td>\n",
       "    </tr>\n",
       "  </tbody>\n",
       "</table>\n",
       "</div>"
      ],
      "text/plain": [
       "   Age  Gender  Engineer  MBA  Work Exp  Salary  Distance  license  \\\n",
       "0   28    Male         0    0         4    14.3       3.2        0   \n",
       "1   23  Female         1    0         4     8.3       3.3        0   \n",
       "2   29    Male         1    0         7    13.4       4.1        0   \n",
       "3   28  Female         1    1         5    13.4       4.5        0   \n",
       "4   27    Male         1    0         4    13.4       4.6        0   \n",
       "\n",
       "          Transport  \n",
       "0  Public Transport  \n",
       "1  Public Transport  \n",
       "2  Public Transport  \n",
       "3  Public Transport  \n",
       "4  Public Transport  "
      ]
     },
     "execution_count": 28,
     "metadata": {},
     "output_type": "execute_result"
    }
   ],
   "source": [
    "trans.head()"
   ]
  },
  {
   "cell_type": "code",
   "execution_count": 29,
   "id": "htJpQOE4f2SP",
   "metadata": {
    "id": "htJpQOE4f2SP"
   },
   "outputs": [],
   "source": [
    "data[\"Gender\"] = data[\"Gender\"].apply(lambda x: 1 if x == \"Male\" else 0) # encode the object type of data into numerical\n",
    "data[\"Transport\"]= data[\"Transport\"].apply(lambda x: 1 if x == \"Public Transport\" else 0) # encode the object type of data into numerical\n",
    "\n",
    "# Encoding Gender\n",
    "#data[\"Gender\"] = data[\"Gender\"].map({\"Male\": 1, \"Female\": 0})  # Assuming only \"Male\" and \"Female\" are present\n",
    "# Encoding Transport\n",
    "#data[\"Transport\"] = data[\"Transport\"].map({\"Public Transport\": 1, \"Private Transport\": 0})  # Assuming these categories\n",
    "\n",
    "\n",
    "X = data.drop(\"Transport\", axis=1)  ## droping Transport from the data\n",
    "Y = data[\"Transport\"]\n",
    "\n",
    "\n",
    "X = pd.get_dummies(X, drop_first=True)\n",
    "\n",
    "# Splitting data in train and test sets\n",
    "X_train, X_test, y_train, y_test = train_test_split(\n",
    "    X,Y, test_size=0.30, random_state=1\n",
    ")\n",
    "# test_size=0.30, 30% of the data will be used for testing, and the remaining 70% will be used for training\n",
    "# random_state=1, By setting random_state to a fixed value (like 1), you ensure that every time you run the code, \n",
    "# the data will be split in exactly the same way. "
   ]
  },
  {
   "cell_type": "code",
   "execution_count": 30,
   "id": "a62fb4cb-50c6-4d18-82ef-2119ef5eba08",
   "metadata": {},
   "outputs": [
    {
     "data": {
      "text/html": [
       "<div>\n",
       "<style scoped>\n",
       "    .dataframe tbody tr th:only-of-type {\n",
       "        vertical-align: middle;\n",
       "    }\n",
       "\n",
       "    .dataframe tbody tr th {\n",
       "        vertical-align: top;\n",
       "    }\n",
       "\n",
       "    .dataframe thead th {\n",
       "        text-align: right;\n",
       "    }\n",
       "</style>\n",
       "<table border=\"1\" class=\"dataframe\">\n",
       "  <thead>\n",
       "    <tr style=\"text-align: right;\">\n",
       "      <th></th>\n",
       "      <th>Age</th>\n",
       "      <th>Gender</th>\n",
       "      <th>Engineer</th>\n",
       "      <th>MBA</th>\n",
       "      <th>Work Exp</th>\n",
       "      <th>Salary</th>\n",
       "      <th>Distance</th>\n",
       "      <th>license</th>\n",
       "      <th>Transport</th>\n",
       "    </tr>\n",
       "  </thead>\n",
       "  <tbody>\n",
       "    <tr>\n",
       "      <th>0</th>\n",
       "      <td>28</td>\n",
       "      <td>1</td>\n",
       "      <td>0</td>\n",
       "      <td>0</td>\n",
       "      <td>4</td>\n",
       "      <td>14.3</td>\n",
       "      <td>3.2</td>\n",
       "      <td>0</td>\n",
       "      <td>1</td>\n",
       "    </tr>\n",
       "    <tr>\n",
       "      <th>1</th>\n",
       "      <td>23</td>\n",
       "      <td>0</td>\n",
       "      <td>1</td>\n",
       "      <td>0</td>\n",
       "      <td>4</td>\n",
       "      <td>8.3</td>\n",
       "      <td>3.3</td>\n",
       "      <td>0</td>\n",
       "      <td>1</td>\n",
       "    </tr>\n",
       "    <tr>\n",
       "      <th>2</th>\n",
       "      <td>29</td>\n",
       "      <td>1</td>\n",
       "      <td>1</td>\n",
       "      <td>0</td>\n",
       "      <td>7</td>\n",
       "      <td>13.4</td>\n",
       "      <td>4.1</td>\n",
       "      <td>0</td>\n",
       "      <td>1</td>\n",
       "    </tr>\n",
       "    <tr>\n",
       "      <th>3</th>\n",
       "      <td>28</td>\n",
       "      <td>0</td>\n",
       "      <td>1</td>\n",
       "      <td>1</td>\n",
       "      <td>5</td>\n",
       "      <td>13.4</td>\n",
       "      <td>4.5</td>\n",
       "      <td>0</td>\n",
       "      <td>1</td>\n",
       "    </tr>\n",
       "    <tr>\n",
       "      <th>4</th>\n",
       "      <td>27</td>\n",
       "      <td>1</td>\n",
       "      <td>1</td>\n",
       "      <td>0</td>\n",
       "      <td>4</td>\n",
       "      <td>13.4</td>\n",
       "      <td>4.6</td>\n",
       "      <td>0</td>\n",
       "      <td>1</td>\n",
       "    </tr>\n",
       "  </tbody>\n",
       "</table>\n",
       "</div>"
      ],
      "text/plain": [
       "   Age  Gender  Engineer  MBA  Work Exp  Salary  Distance  license  Transport\n",
       "0   28       1         0    0         4    14.3       3.2        0          1\n",
       "1   23       0         1    0         4     8.3       3.3        0          1\n",
       "2   29       1         1    0         7    13.4       4.1        0          1\n",
       "3   28       0         1    1         5    13.4       4.5        0          1\n",
       "4   27       1         1    0         4    13.4       4.6        0          1"
      ]
     },
     "execution_count": 30,
     "metadata": {},
     "output_type": "execute_result"
    }
   ],
   "source": [
    "data.head()"
   ]
  },
  {
   "cell_type": "code",
   "execution_count": 31,
   "id": "1afb3004-6956-43eb-9ffd-4b520edc52b9",
   "metadata": {},
   "outputs": [
    {
     "data": {
      "text/html": [
       "<div>\n",
       "<style scoped>\n",
       "    .dataframe tbody tr th:only-of-type {\n",
       "        vertical-align: middle;\n",
       "    }\n",
       "\n",
       "    .dataframe tbody tr th {\n",
       "        vertical-align: top;\n",
       "    }\n",
       "\n",
       "    .dataframe thead th {\n",
       "        text-align: right;\n",
       "    }\n",
       "</style>\n",
       "<table border=\"1\" class=\"dataframe\">\n",
       "  <thead>\n",
       "    <tr style=\"text-align: right;\">\n",
       "      <th></th>\n",
       "      <th>Age</th>\n",
       "      <th>Gender</th>\n",
       "      <th>Engineer</th>\n",
       "      <th>MBA</th>\n",
       "      <th>Work Exp</th>\n",
       "      <th>Salary</th>\n",
       "      <th>Distance</th>\n",
       "      <th>license</th>\n",
       "      <th>Transport</th>\n",
       "    </tr>\n",
       "  </thead>\n",
       "  <tbody>\n",
       "    <tr>\n",
       "      <th>439</th>\n",
       "      <td>40</td>\n",
       "      <td>1</td>\n",
       "      <td>1</td>\n",
       "      <td>0</td>\n",
       "      <td>20</td>\n",
       "      <td>57.0</td>\n",
       "      <td>21.4</td>\n",
       "      <td>1</td>\n",
       "      <td>0</td>\n",
       "    </tr>\n",
       "    <tr>\n",
       "      <th>440</th>\n",
       "      <td>38</td>\n",
       "      <td>1</td>\n",
       "      <td>1</td>\n",
       "      <td>0</td>\n",
       "      <td>19</td>\n",
       "      <td>44.0</td>\n",
       "      <td>21.5</td>\n",
       "      <td>1</td>\n",
       "      <td>0</td>\n",
       "    </tr>\n",
       "    <tr>\n",
       "      <th>441</th>\n",
       "      <td>37</td>\n",
       "      <td>1</td>\n",
       "      <td>1</td>\n",
       "      <td>0</td>\n",
       "      <td>19</td>\n",
       "      <td>45.0</td>\n",
       "      <td>21.5</td>\n",
       "      <td>1</td>\n",
       "      <td>0</td>\n",
       "    </tr>\n",
       "    <tr>\n",
       "      <th>442</th>\n",
       "      <td>37</td>\n",
       "      <td>1</td>\n",
       "      <td>0</td>\n",
       "      <td>0</td>\n",
       "      <td>19</td>\n",
       "      <td>47.0</td>\n",
       "      <td>22.8</td>\n",
       "      <td>1</td>\n",
       "      <td>0</td>\n",
       "    </tr>\n",
       "    <tr>\n",
       "      <th>443</th>\n",
       "      <td>39</td>\n",
       "      <td>1</td>\n",
       "      <td>1</td>\n",
       "      <td>1</td>\n",
       "      <td>21</td>\n",
       "      <td>50.0</td>\n",
       "      <td>23.4</td>\n",
       "      <td>1</td>\n",
       "      <td>0</td>\n",
       "    </tr>\n",
       "  </tbody>\n",
       "</table>\n",
       "</div>"
      ],
      "text/plain": [
       "     Age  Gender  Engineer  MBA  Work Exp  Salary  Distance  license  \\\n",
       "439   40       1         1    0        20    57.0      21.4        1   \n",
       "440   38       1         1    0        19    44.0      21.5        1   \n",
       "441   37       1         1    0        19    45.0      21.5        1   \n",
       "442   37       1         0    0        19    47.0      22.8        1   \n",
       "443   39       1         1    1        21    50.0      23.4        1   \n",
       "\n",
       "     Transport  \n",
       "439          0  \n",
       "440          0  \n",
       "441          0  \n",
       "442          0  \n",
       "443          0  "
      ]
     },
     "execution_count": 31,
     "metadata": {},
     "output_type": "execute_result"
    }
   ],
   "source": [
    "data.tail()"
   ]
  },
  {
   "cell_type": "code",
   "execution_count": 32,
   "id": "empty-typing",
   "metadata": {
    "colab": {
     "base_uri": "https://localhost:8080/"
    },
    "id": "empty-typing",
    "outputId": "0fb45b2d-f8df-48e0-f89b-0b211e82387e"
   },
   "outputs": [
    {
     "name": "stdout",
     "output_type": "stream",
     "text": [
      "Shape of Training set :  (310, 8)\n",
      "Shape of test set :  (134, 8)\n",
      "Percentage of classes in training set:\n",
      "Transport\n",
      "1    0.670968\n",
      "0    0.329032\n",
      "Name: proportion, dtype: float64\n",
      "Percentage of classes in test set:\n",
      "Transport\n",
      "1    0.686567\n",
      "0    0.313433\n",
      "Name: proportion, dtype: float64\n"
     ]
    }
   ],
   "source": [
    "print(\"Shape of Training set : \", X_train.shape)\n",
    "print(\"Shape of test set : \", X_test.shape)\n",
    "print(\"Percentage of classes in training set:\")\n",
    "print(y_train.value_counts(normalize=True))\n",
    "print(\"Percentage of classes in test set:\")\n",
    "print(y_test.value_counts(normalize=True))"
   ]
  },
  {
   "cell_type": "markdown",
   "id": "dr7q6-dbfiQB",
   "metadata": {
    "id": "dr7q6-dbfiQB"
   },
   "source": [
    "## Model evaluation criterion"
   ]
  },
  {
   "cell_type": "markdown",
   "id": "f23e29cc-2186-46b3-a66d-3fe96bbeee0c",
   "metadata": {},
   "source": [
    "- **Accuracy**: Proportion of correct predictions (both true positives and true negatives) to total predictions.\n",
    "- **Precision**: Proportion of true positives to all predicted positives, indicating how many positive predictions were correct.\n",
    "- **Recall**: Proportion of true positives to all actual positives, indicating how many actual positive cases were detected.\n",
    "- **F1-score**: Harmonic mean of precision and recall, balancing both metrics, especially in imbalanced datasets."
   ]
  },
  {
   "cell_type": "markdown",
   "id": "foreign-yemen",
   "metadata": {
    "id": "foreign-yemen"
   },
   "source": [
    "**Model can make wrong predictions as**:\n",
    "\n",
    "1. Model predicts that the Public mode of transport is preferred but employee prefers private mode - (false negative)\n",
    "2. Model predicts that the Private mode of transport is preferred but employee prefers public mode - (false positive)\n",
    "\n",
    "**Which case is more important?**\n",
    "\n",
    "Both are important to correctly estimate the number of employees prefering the mode of transport\n",
    "\n",
    "**How to reduce the losses?**\n",
    "\n",
    "* `F1 Score` can be used as the metric for evaluation of the model, greater the F1  score higher are the chances of minimizing False Negatives and False Positives.\n",
    "* We will use `balanced class weights so that model focuses equally on both classes`."
   ]
  },
  {
   "cell_type": "markdown",
   "id": "capital-charlotte",
   "metadata": {
    "id": "capital-charlotte"
   },
   "source": [
    "First, let's create functions to calculate different metrics and confusion matrix so that we don't have to use the same code repeatedly for each model.\n",
    "* The model_performance_classification_sklearn function will be used to check the model performance of models.\n",
    "* The confusion_matrix_sklearn function will be used to plot the confusion matrix."
   ]
  },
  {
   "cell_type": "code",
   "execution_count": 33,
   "id": "mexican-database",
   "metadata": {
    "id": "mexican-database"
   },
   "outputs": [],
   "source": [
    "# defining a function to compute different metrics to check performance of a classification model built using sklearn\n",
    "def model_performance_classification_sklearn(model, predictors, target):\n",
    "    \"\"\"\n",
    "    Function to compute different metrics to check classification model performance\n",
    "\n",
    "    model: classifier\n",
    "    predictors: independent variables\n",
    "    target: dependent variable\n",
    "    \"\"\"\n",
    "\n",
    "    # predicting using the independent variables\n",
    "    pred = model.predict(predictors)\n",
    "\n",
    "    acc = accuracy_score(target, pred)  # to compute Accuracy\n",
    "    recall = recall_score(target, pred)  # to compute Recall\n",
    "    precision = precision_score(target, pred)  # to compute Precision\n",
    "    f1 = f1_score(target, pred)  # to compute F1-score\n",
    "\n",
    "    # creating a dataframe of metrics\n",
    "    df_perf = pd.DataFrame(\n",
    "        {\"Accuracy\": acc, \"Recall\": recall, \"Precision\": precision, \"F1\": f1,},\n",
    "        index=[0],\n",
    "    )\n",
    "\n",
    "    return df_perf"
   ]
  },
  {
   "cell_type": "markdown",
   "id": "7c0c545e-9de6-44fc-a29e-b80c7a41ee74",
   "metadata": {},
   "source": [
    "A **confusion matrix** is a table used to evaluate the performance of a classification model by comparing the predicted labels to the true labels. It provides a summary of the model's correct and incorrect predictions, organized into four categories:\n",
    "\n",
    "**Explanation of Terms:**\n",
    "* **True Positive (TP):**  The model correctly predicted a positive label.\n",
    "* **True Negative (TN):**  The model correctly predicted a negative label.\n",
    "* **False Positive (FP):** The model incorrectly predicted a positive label (type I error).\n",
    "* **False Negative (FN):** The model incorrectly predicted a negative label (type II error)."
   ]
  },
  {
   "cell_type": "code",
   "execution_count": 34,
   "id": "recreational-topic",
   "metadata": {
    "id": "recreational-topic"
   },
   "outputs": [],
   "source": [
    "def confusion_matrix_sklearn(model, predictors, target):\n",
    "    y_pred = model.predict(predictors)\n",
    "    cm = confusion_matrix(target, y_pred)\n",
    "    plt.figure(figsize=(6, 4))\n",
    "    sns.heatmap(cm, annot=True, fmt=\"d\", cmap=\"YlGnBu\", xticklabels=np.unique(target), yticklabels=np.unique(target))\n",
    "    plt.xlabel(\"Predicted Labels\")\n",
    "    plt.ylabel(\"True Labels\")\n",
    "    plt.title(\"Confusion Matrix\")\n",
    "    plt.show()"
   ]
  },
  {
   "cell_type": "markdown",
   "id": "Pe39R57-Bpld",
   "metadata": {
    "id": "Pe39R57-Bpld"
   },
   "source": [
    "## Bagging - Model Building and Hyperparameter Tuning"
   ]
  },
  {
   "cell_type": "markdown",
   "id": "eb22815d-7acd-4f8b-a0e3-f20052b1ac64",
   "metadata": {},
   "source": [
    "`Bagging (Bootstrap Aggregating)` is an ensemble learning technique that improves the performance and stability of machine learning algorithms by reducing variance. The method works by training multiple versions of the same model on different subsets of the data and averaging their predictions to enhance overall performance."
   ]
  },
  {
   "cell_type": "markdown",
   "id": "e2430814-7891-4b4c-b04c-11b4a2d4d4ae",
   "metadata": {},
   "source": [
    "Link for my post - https://www.linkedin.com/pulse/what-bagging-isha-shukla-zjwpc/?trackingId=GgxPX27FS2aiADtnKhiaZw%3D%3D"
   ]
  },
  {
   "cell_type": "markdown",
   "id": "aging-corruption",
   "metadata": {
    "id": "aging-corruption"
   },
   "source": [
    "### Bagging Classifier"
   ]
  },
  {
   "cell_type": "code",
   "execution_count": 35,
   "id": "jTiu1dLDgRw4",
   "metadata": {
    "id": "jTiu1dLDgRw4"
   },
   "outputs": [
    {
     "data": {
      "text/html": [
       "<style>#sk-container-id-1 {color: black;}#sk-container-id-1 pre{padding: 0;}#sk-container-id-1 div.sk-toggleable {background-color: white;}#sk-container-id-1 label.sk-toggleable__label {cursor: pointer;display: block;width: 100%;margin-bottom: 0;padding: 0.3em;box-sizing: border-box;text-align: center;}#sk-container-id-1 label.sk-toggleable__label-arrow:before {content: \"▸\";float: left;margin-right: 0.25em;color: #696969;}#sk-container-id-1 label.sk-toggleable__label-arrow:hover:before {color: black;}#sk-container-id-1 div.sk-estimator:hover label.sk-toggleable__label-arrow:before {color: black;}#sk-container-id-1 div.sk-toggleable__content {max-height: 0;max-width: 0;overflow: hidden;text-align: left;background-color: #f0f8ff;}#sk-container-id-1 div.sk-toggleable__content pre {margin: 0.2em;color: black;border-radius: 0.25em;background-color: #f0f8ff;}#sk-container-id-1 input.sk-toggleable__control:checked~div.sk-toggleable__content {max-height: 200px;max-width: 100%;overflow: auto;}#sk-container-id-1 input.sk-toggleable__control:checked~label.sk-toggleable__label-arrow:before {content: \"▾\";}#sk-container-id-1 div.sk-estimator input.sk-toggleable__control:checked~label.sk-toggleable__label {background-color: #d4ebff;}#sk-container-id-1 div.sk-label input.sk-toggleable__control:checked~label.sk-toggleable__label {background-color: #d4ebff;}#sk-container-id-1 input.sk-hidden--visually {border: 0;clip: rect(1px 1px 1px 1px);clip: rect(1px, 1px, 1px, 1px);height: 1px;margin: -1px;overflow: hidden;padding: 0;position: absolute;width: 1px;}#sk-container-id-1 div.sk-estimator {font-family: monospace;background-color: #f0f8ff;border: 1px dotted black;border-radius: 0.25em;box-sizing: border-box;margin-bottom: 0.5em;}#sk-container-id-1 div.sk-estimator:hover {background-color: #d4ebff;}#sk-container-id-1 div.sk-parallel-item::after {content: \"\";width: 100%;border-bottom: 1px solid gray;flex-grow: 1;}#sk-container-id-1 div.sk-label:hover label.sk-toggleable__label {background-color: #d4ebff;}#sk-container-id-1 div.sk-serial::before {content: \"\";position: absolute;border-left: 1px solid gray;box-sizing: border-box;top: 0;bottom: 0;left: 50%;z-index: 0;}#sk-container-id-1 div.sk-serial {display: flex;flex-direction: column;align-items: center;background-color: white;padding-right: 0.2em;padding-left: 0.2em;position: relative;}#sk-container-id-1 div.sk-item {position: relative;z-index: 1;}#sk-container-id-1 div.sk-parallel {display: flex;align-items: stretch;justify-content: center;background-color: white;position: relative;}#sk-container-id-1 div.sk-item::before, #sk-container-id-1 div.sk-parallel-item::before {content: \"\";position: absolute;border-left: 1px solid gray;box-sizing: border-box;top: 0;bottom: 0;left: 50%;z-index: -1;}#sk-container-id-1 div.sk-parallel-item {display: flex;flex-direction: column;z-index: 1;position: relative;background-color: white;}#sk-container-id-1 div.sk-parallel-item:first-child::after {align-self: flex-end;width: 50%;}#sk-container-id-1 div.sk-parallel-item:last-child::after {align-self: flex-start;width: 50%;}#sk-container-id-1 div.sk-parallel-item:only-child::after {width: 0;}#sk-container-id-1 div.sk-dashed-wrapped {border: 1px dashed gray;margin: 0 0.4em 0.5em 0.4em;box-sizing: border-box;padding-bottom: 0.4em;background-color: white;}#sk-container-id-1 div.sk-label label {font-family: monospace;font-weight: bold;display: inline-block;line-height: 1.2em;}#sk-container-id-1 div.sk-label-container {text-align: center;}#sk-container-id-1 div.sk-container {/* jupyter's `normalize.less` sets `[hidden] { display: none; }` but bootstrap.min.css set `[hidden] { display: none !important; }` so we also need the `!important` here to be able to override the default hidden behavior on the sphinx rendered scikit-learn.org. See: https://github.com/scikit-learn/scikit-learn/issues/21755 */display: inline-block !important;position: relative;}#sk-container-id-1 div.sk-text-repr-fallback {display: none;}</style><div id=\"sk-container-id-1\" class=\"sk-top-container\"><div class=\"sk-text-repr-fallback\"><pre>BaggingClassifier(random_state=1)</pre><b>In a Jupyter environment, please rerun this cell to show the HTML representation or trust the notebook. <br />On GitHub, the HTML representation is unable to render, please try loading this page with nbviewer.org.</b></div><div class=\"sk-container\" hidden><div class=\"sk-item\"><div class=\"sk-estimator sk-toggleable\"><input class=\"sk-toggleable__control sk-hidden--visually\" id=\"sk-estimator-id-1\" type=\"checkbox\" checked><label for=\"sk-estimator-id-1\" class=\"sk-toggleable__label sk-toggleable__label-arrow\">BaggingClassifier</label><div class=\"sk-toggleable__content\"><pre>BaggingClassifier(random_state=1)</pre></div></div></div></div></div>"
      ],
      "text/plain": [
       "BaggingClassifier(random_state=1)"
      ]
     },
     "execution_count": 35,
     "metadata": {},
     "output_type": "execute_result"
    }
   ],
   "source": [
    "bagging_classifier = BaggingClassifier(random_state=1)\n",
    "bagging_classifier.fit(X_train, y_train)## fit bagging classifier on the train data"
   ]
  },
  {
   "cell_type": "markdown",
   "id": "suffering-growing",
   "metadata": {
    "id": "suffering-growing"
   },
   "source": [
    "#### Checking model performance on training set"
   ]
  },
  {
   "cell_type": "code",
   "execution_count": 36,
   "id": "MHszf1mbgf8N",
   "metadata": {
    "id": "MHszf1mbgf8N"
   },
   "outputs": [
    {
     "data": {
      "image/png": "[encoded data removed]",
      "text/plain": [
       "<Figure size 600x400 with 2 Axes>"
      ]
     },
     "metadata": {},
     "output_type": "display_data"
    }
   ],
   "source": [
    "confusion_matrix_sklearn(bagging_classifier, X_train, y_train)"
   ]
  },
  {
   "cell_type": "code",
   "execution_count": 37,
   "id": "GH0-ZnDylUeT",
   "metadata": {
    "id": "GH0-ZnDylUeT"
   },
   "outputs": [
    {
     "data": {
      "text/html": [
       "<div>\n",
       "<style scoped>\n",
       "    .dataframe tbody tr th:only-of-type {\n",
       "        vertical-align: middle;\n",
       "    }\n",
       "\n",
       "    .dataframe tbody tr th {\n",
       "        vertical-align: top;\n",
       "    }\n",
       "\n",
       "    .dataframe thead th {\n",
       "        text-align: right;\n",
       "    }\n",
       "</style>\n",
       "<table border=\"1\" class=\"dataframe\">\n",
       "  <thead>\n",
       "    <tr style=\"text-align: right;\">\n",
       "      <th></th>\n",
       "      <th>Accuracy</th>\n",
       "      <th>Recall</th>\n",
       "      <th>Precision</th>\n",
       "      <th>F1</th>\n",
       "    </tr>\n",
       "  </thead>\n",
       "  <tbody>\n",
       "    <tr>\n",
       "      <th>0</th>\n",
       "      <td>0.990323</td>\n",
       "      <td>0.995192</td>\n",
       "      <td>0.990431</td>\n",
       "      <td>0.992806</td>\n",
       "    </tr>\n",
       "  </tbody>\n",
       "</table>\n",
       "</div>"
      ],
      "text/plain": [
       "   Accuracy    Recall  Precision        F1\n",
       "0  0.990323  0.995192   0.990431  0.992806"
      ]
     },
     "execution_count": 37,
     "metadata": {},
     "output_type": "execute_result"
    }
   ],
   "source": [
    "bagging_classifier_model_train_perf = model_performance_classification_sklearn(\n",
    "    bagging_classifier, X_train, y_train\n",
    ")\n",
    "bagging_classifier_model_train_perf"
   ]
  },
  {
   "cell_type": "markdown",
   "id": "verified-obligation",
   "metadata": {
    "id": "verified-obligation"
   },
   "source": [
    "#### Checking model performance on test set"
   ]
  },
  {
   "cell_type": "code",
   "execution_count": 38,
   "id": "QPZ33Dygldb_",
   "metadata": {
    "id": "QPZ33Dygldb_"
   },
   "outputs": [
    {
     "data": {
      "image/png": "[encoded data removed]",
      "text/plain": [
       "<Figure size 600x400 with 2 Axes>"
      ]
     },
     "metadata": {},
     "output_type": "display_data"
    }
   ],
   "source": [
    "confusion_matrix_sklearn(bagging_classifier, X_test, y_test) ## confusion matrix for test data"
   ]
  },
  {
   "cell_type": "code",
   "execution_count": 39,
   "id": "FlcrZjObleGD",
   "metadata": {
    "id": "FlcrZjObleGD"
   },
   "outputs": [
    {
     "data": {
      "text/html": [
       "<div>\n",
       "<style scoped>\n",
       "    .dataframe tbody tr th:only-of-type {\n",
       "        vertical-align: middle;\n",
       "    }\n",
       "\n",
       "    .dataframe tbody tr th {\n",
       "        vertical-align: top;\n",
       "    }\n",
       "\n",
       "    .dataframe thead th {\n",
       "        text-align: right;\n",
       "    }\n",
       "</style>\n",
       "<table border=\"1\" class=\"dataframe\">\n",
       "  <thead>\n",
       "    <tr style=\"text-align: right;\">\n",
       "      <th></th>\n",
       "      <th>Accuracy</th>\n",
       "      <th>Recall</th>\n",
       "      <th>Precision</th>\n",
       "      <th>F1</th>\n",
       "    </tr>\n",
       "  </thead>\n",
       "  <tbody>\n",
       "    <tr>\n",
       "      <th>0</th>\n",
       "      <td>0.798507</td>\n",
       "      <td>0.815217</td>\n",
       "      <td>0.882353</td>\n",
       "      <td>0.847458</td>\n",
       "    </tr>\n",
       "  </tbody>\n",
       "</table>\n",
       "</div>"
      ],
      "text/plain": [
       "   Accuracy    Recall  Precision        F1\n",
       "0  0.798507  0.815217   0.882353  0.847458"
      ]
     },
     "execution_count": 39,
     "metadata": {},
     "output_type": "execute_result"
    }
   ],
   "source": [
    "bagging_classifier_model_test_perf = model_performance_classification_sklearn(bagging_classifier, X_test, y_test) ## check performance for test data\n",
    "bagging_classifier_model_test_perf"
   ]
  },
  {
   "cell_type": "markdown",
   "id": "increased-civilian",
   "metadata": {
    "id": "increased-civilian"
   },
   "source": [
    "### Hyperparameter Tuning - Bagging Classifier"
   ]
  },
  {
   "cell_type": "markdown",
   "id": "82076fbf-2a28-45b2-9ab5-ef6c22a3f429",
   "metadata": {},
   "source": [
    "Hyperparameter tuning improves the performance of a Bagging Classifier by finding the optimal combination of parameters. This is done using techniques like Grid SearchCV. "
   ]
  },
  {
   "cell_type": "code",
   "execution_count": 40,
   "id": "jEsJzz3EluIP",
   "metadata": {
    "id": "jEsJzz3EluIP"
   },
   "outputs": [
    {
     "name": "stdout",
     "output_type": "stream",
     "text": [
      "CPU times: user 7.1 s, sys: 129 ms, total: 7.23 s\n",
      "Wall time: 7.27 s\n"
     ]
    },
    {
     "data": {
      "text/html": [
       "<style>#sk-container-id-2 {color: black;}#sk-container-id-2 pre{padding: 0;}#sk-container-id-2 div.sk-toggleable {background-color: white;}#sk-container-id-2 label.sk-toggleable__label {cursor: pointer;display: block;width: 100%;margin-bottom: 0;padding: 0.3em;box-sizing: border-box;text-align: center;}#sk-container-id-2 label.sk-toggleable__label-arrow:before {content: \"▸\";float: left;margin-right: 0.25em;color: #696969;}#sk-container-id-2 label.sk-toggleable__label-arrow:hover:before {color: black;}#sk-container-id-2 div.sk-estimator:hover label.sk-toggleable__label-arrow:before {color: black;}#sk-container-id-2 div.sk-toggleable__content {max-height: 0;max-width: 0;overflow: hidden;text-align: left;background-color: #f0f8ff;}#sk-container-id-2 div.sk-toggleable__content pre {margin: 0.2em;color: black;border-radius: 0.25em;background-color: #f0f8ff;}#sk-container-id-2 input.sk-toggleable__control:checked~div.sk-toggleable__content {max-height: 200px;max-width: 100%;overflow: auto;}#sk-container-id-2 input.sk-toggleable__control:checked~label.sk-toggleable__label-arrow:before {content: \"▾\";}#sk-container-id-2 div.sk-estimator input.sk-toggleable__control:checked~label.sk-toggleable__label {background-color: #d4ebff;}#sk-container-id-2 div.sk-label input.sk-toggleable__control:checked~label.sk-toggleable__label {background-color: #d4ebff;}#sk-container-id-2 input.sk-hidden--visually {border: 0;clip: rect(1px 1px 1px 1px);clip: rect(1px, 1px, 1px, 1px);height: 1px;margin: -1px;overflow: hidden;padding: 0;position: absolute;width: 1px;}#sk-container-id-2 div.sk-estimator {font-family: monospace;background-color: #f0f8ff;border: 1px dotted black;border-radius: 0.25em;box-sizing: border-box;margin-bottom: 0.5em;}#sk-container-id-2 div.sk-estimator:hover {background-color: #d4ebff;}#sk-container-id-2 div.sk-parallel-item::after {content: \"\";width: 100%;border-bottom: 1px solid gray;flex-grow: 1;}#sk-container-id-2 div.sk-label:hover label.sk-toggleable__label {background-color: #d4ebff;}#sk-container-id-2 div.sk-serial::before {content: \"\";position: absolute;border-left: 1px solid gray;box-sizing: border-box;top: 0;bottom: 0;left: 50%;z-index: 0;}#sk-container-id-2 div.sk-serial {display: flex;flex-direction: column;align-items: center;background-color: white;padding-right: 0.2em;padding-left: 0.2em;position: relative;}#sk-container-id-2 div.sk-item {position: relative;z-index: 1;}#sk-container-id-2 div.sk-parallel {display: flex;align-items: stretch;justify-content: center;background-color: white;position: relative;}#sk-container-id-2 div.sk-item::before, #sk-container-id-2 div.sk-parallel-item::before {content: \"\";position: absolute;border-left: 1px solid gray;box-sizing: border-box;top: 0;bottom: 0;left: 50%;z-index: -1;}#sk-container-id-2 div.sk-parallel-item {display: flex;flex-direction: column;z-index: 1;position: relative;background-color: white;}#sk-container-id-2 div.sk-parallel-item:first-child::after {align-self: flex-end;width: 50%;}#sk-container-id-2 div.sk-parallel-item:last-child::after {align-self: flex-start;width: 50%;}#sk-container-id-2 div.sk-parallel-item:only-child::after {width: 0;}#sk-container-id-2 div.sk-dashed-wrapped {border: 1px dashed gray;margin: 0 0.4em 0.5em 0.4em;box-sizing: border-box;padding-bottom: 0.4em;background-color: white;}#sk-container-id-2 div.sk-label label {font-family: monospace;font-weight: bold;display: inline-block;line-height: 1.2em;}#sk-container-id-2 div.sk-label-container {text-align: center;}#sk-container-id-2 div.sk-container {/* jupyter's `normalize.less` sets `[hidden] { display: none; }` but bootstrap.min.css set `[hidden] { display: none !important; }` so we also need the `!important` here to be able to override the default hidden behavior on the sphinx rendered scikit-learn.org. See: https://github.com/scikit-learn/scikit-learn/issues/21755 */display: inline-block !important;position: relative;}#sk-container-id-2 div.sk-text-repr-fallback {display: none;}</style><div id=\"sk-container-id-2\" class=\"sk-top-container\"><div class=\"sk-text-repr-fallback\"><pre>BaggingClassifier(max_features=0.5, max_samples=0.8, n_estimators=50,\n",
       "                  random_state=1)</pre><b>In a Jupyter environment, please rerun this cell to show the HTML representation or trust the notebook. <br />On GitHub, the HTML representation is unable to render, please try loading this page with nbviewer.org.</b></div><div class=\"sk-container\" hidden><div class=\"sk-item\"><div class=\"sk-estimator sk-toggleable\"><input class=\"sk-toggleable__control sk-hidden--visually\" id=\"sk-estimator-id-2\" type=\"checkbox\" checked><label for=\"sk-estimator-id-2\" class=\"sk-toggleable__label sk-toggleable__label-arrow\">BaggingClassifier</label><div class=\"sk-toggleable__content\"><pre>BaggingClassifier(max_features=0.5, max_samples=0.8, n_estimators=50,\n",
       "                  random_state=1)</pre></div></div></div></div></div>"
      ],
      "text/plain": [
       "BaggingClassifier(max_features=0.5, max_samples=0.8, n_estimators=50,\n",
       "                  random_state=1)"
      ]
     },
     "execution_count": 40,
     "metadata": {},
     "output_type": "execute_result"
    }
   ],
   "source": [
    "%%time\n",
    "# Choose the type of classifier.\n",
    "bagging_estimator_tuned = BaggingClassifier(random_state=1)\n",
    "\n",
    "# Grid of parameters to choose from\n",
    "parameters = {\n",
    "    \"max_samples\": [0.7, 0.8],\n",
    "    \"max_features\": [0.5,0.7,1],\n",
    "    \"n_estimators\": np.arange(50,110,25),\n",
    "}\n",
    "\n",
    "# Type of scoring used to compare parameter combinations\n",
    "acc_scorer = metrics.make_scorer(metrics.f1_score)\n",
    "\n",
    "# Run the grid search\n",
    "grid_obj = GridSearchCV(bagging_estimator_tuned, parameters, scoring=acc_scorer, cv=5)\n",
    "grid_obj = grid_obj.fit(X_train, y_train)\n",
    "\n",
    "# Set the clf to the best combination of parameters\n",
    "bagging_estimator_tuned = grid_obj.best_estimator_\n",
    "\n",
    "# Fit the best algorithm to the data.\n",
    "bagging_estimator_tuned.fit(X_train, y_train)"
   ]
  },
  {
   "cell_type": "markdown",
   "id": "protecting-douglas",
   "metadata": {
    "id": "protecting-douglas"
   },
   "source": [
    "#### Checking model performance on training set"
   ]
  },
  {
   "cell_type": "code",
   "execution_count": 41,
   "id": "R91FHzuZl4e0",
   "metadata": {
    "id": "R91FHzuZl4e0"
   },
   "outputs": [
    {
     "data": {
      "image/png": "[encoded data removed]",
      "text/plain": [
       "<Figure size 600x400 with 2 Axes>"
      ]
     },
     "metadata": {},
     "output_type": "display_data"
    }
   ],
   "source": [
    "confusion_matrix_sklearn(bagging_estimator_tuned, X_train, y_train) ##confusion matrix for train data on tuned estimator"
   ]
  },
  {
   "cell_type": "code",
   "execution_count": 42,
   "id": "eIap0n4ol4cL",
   "metadata": {
    "id": "eIap0n4ol4cL"
   },
   "outputs": [
    {
     "data": {
      "text/html": [
       "<div>\n",
       "<style scoped>\n",
       "    .dataframe tbody tr th:only-of-type {\n",
       "        vertical-align: middle;\n",
       "    }\n",
       "\n",
       "    .dataframe tbody tr th {\n",
       "        vertical-align: top;\n",
       "    }\n",
       "\n",
       "    .dataframe thead th {\n",
       "        text-align: right;\n",
       "    }\n",
       "</style>\n",
       "<table border=\"1\" class=\"dataframe\">\n",
       "  <thead>\n",
       "    <tr style=\"text-align: right;\">\n",
       "      <th></th>\n",
       "      <th>Accuracy</th>\n",
       "      <th>Recall</th>\n",
       "      <th>Precision</th>\n",
       "      <th>F1</th>\n",
       "    </tr>\n",
       "  </thead>\n",
       "  <tbody>\n",
       "    <tr>\n",
       "      <th>0</th>\n",
       "      <td>0.980645</td>\n",
       "      <td>1.0</td>\n",
       "      <td>0.971963</td>\n",
       "      <td>0.985782</td>\n",
       "    </tr>\n",
       "  </tbody>\n",
       "</table>\n",
       "</div>"
      ],
      "text/plain": [
       "   Accuracy  Recall  Precision        F1\n",
       "0  0.980645     1.0   0.971963  0.985782"
      ]
     },
     "execution_count": 42,
     "metadata": {},
     "output_type": "execute_result"
    }
   ],
   "source": [
    "bagging_estimator_tuned_model_train_perf = model_performance_classification_sklearn(bagging_estimator_tuned,X_train, y_train) ##check performance for train data on tuned estimator\n",
    "bagging_estimator_tuned_model_train_perf"
   ]
  },
  {
   "cell_type": "markdown",
   "id": "elegant-bookmark",
   "metadata": {
    "id": "elegant-bookmark"
   },
   "source": [
    "#### Checking model performance on test set"
   ]
  },
  {
   "cell_type": "code",
   "execution_count": 43,
   "id": "O9peA4hKl_Um",
   "metadata": {
    "id": "O9peA4hKl_Um"
   },
   "outputs": [
    {
     "data": {
      "image/png": "[encoded data removed]",
      "text/plain": [
       "<Figure size 600x400 with 2 Axes>"
      ]
     },
     "metadata": {},
     "output_type": "display_data"
    }
   ],
   "source": [
    "confusion_matrix_sklearn(bagging_estimator_tuned, X_test, y_test) ##confusion matrix for test data on tuned estimator"
   ]
  },
  {
   "cell_type": "code",
   "execution_count": 44,
   "id": "MtOU_tVtl_R8",
   "metadata": {
    "id": "MtOU_tVtl_R8"
   },
   "outputs": [
    {
     "data": {
      "text/html": [
       "<div>\n",
       "<style scoped>\n",
       "    .dataframe tbody tr th:only-of-type {\n",
       "        vertical-align: middle;\n",
       "    }\n",
       "\n",
       "    .dataframe tbody tr th {\n",
       "        vertical-align: top;\n",
       "    }\n",
       "\n",
       "    .dataframe thead th {\n",
       "        text-align: right;\n",
       "    }\n",
       "</style>\n",
       "<table border=\"1\" class=\"dataframe\">\n",
       "  <thead>\n",
       "    <tr style=\"text-align: right;\">\n",
       "      <th></th>\n",
       "      <th>Accuracy</th>\n",
       "      <th>Recall</th>\n",
       "      <th>Precision</th>\n",
       "      <th>F1</th>\n",
       "    </tr>\n",
       "  </thead>\n",
       "  <tbody>\n",
       "    <tr>\n",
       "      <th>0</th>\n",
       "      <td>0.776119</td>\n",
       "      <td>0.891304</td>\n",
       "      <td>0.803922</td>\n",
       "      <td>0.845361</td>\n",
       "    </tr>\n",
       "  </tbody>\n",
       "</table>\n",
       "</div>"
      ],
      "text/plain": [
       "   Accuracy    Recall  Precision        F1\n",
       "0  0.776119  0.891304   0.803922  0.845361"
      ]
     },
     "execution_count": 44,
     "metadata": {},
     "output_type": "execute_result"
    }
   ],
   "source": [
    "bagging_estimator_tuned_model_test_perf = model_performance_classification_sklearn(bagging_estimator_tuned,X_test, y_test) ## Complete the code to check performance for test data on tuned estimator\n",
    "bagging_estimator_tuned_model_test_perf"
   ]
  },
  {
   "cell_type": "markdown",
   "id": "colonial-society",
   "metadata": {
    "id": "colonial-society"
   },
   "source": [
    "### Random Forest"
   ]
  },
  {
   "cell_type": "markdown",
   "id": "b8ba6585-32cf-4601-ab41-2e64cd7c1966",
   "metadata": {},
   "source": [
    "- An ensemble learning technique that builds multiple decision trees and combines their predictions.\n",
    "- It uses bootstrap aggregation (bagging) to reduce overfitting."
   ]
  },
  {
   "cell_type": "code",
   "execution_count": 45,
   "id": "BSIxGIUjmH_t",
   "metadata": {
    "id": "BSIxGIUjmH_t"
   },
   "outputs": [
    {
     "data": {
      "text/html": [
       "<style>#sk-container-id-3 {color: black;}#sk-container-id-3 pre{padding: 0;}#sk-container-id-3 div.sk-toggleable {background-color: white;}#sk-container-id-3 label.sk-toggleable__label {cursor: pointer;display: block;width: 100%;margin-bottom: 0;padding: 0.3em;box-sizing: border-box;text-align: center;}#sk-container-id-3 label.sk-toggleable__label-arrow:before {content: \"▸\";float: left;margin-right: 0.25em;color: #696969;}#sk-container-id-3 label.sk-toggleable__label-arrow:hover:before {color: black;}#sk-container-id-3 div.sk-estimator:hover label.sk-toggleable__label-arrow:before {color: black;}#sk-container-id-3 div.sk-toggleable__content {max-height: 0;max-width: 0;overflow: hidden;text-align: left;background-color: #f0f8ff;}#sk-container-id-3 div.sk-toggleable__content pre {margin: 0.2em;color: black;border-radius: 0.25em;background-color: #f0f8ff;}#sk-container-id-3 input.sk-toggleable__control:checked~div.sk-toggleable__content {max-height: 200px;max-width: 100%;overflow: auto;}#sk-container-id-3 input.sk-toggleable__control:checked~label.sk-toggleable__label-arrow:before {content: \"▾\";}#sk-container-id-3 div.sk-estimator input.sk-toggleable__control:checked~label.sk-toggleable__label {background-color: #d4ebff;}#sk-container-id-3 div.sk-label input.sk-toggleable__control:checked~label.sk-toggleable__label {background-color: #d4ebff;}#sk-container-id-3 input.sk-hidden--visually {border: 0;clip: rect(1px 1px 1px 1px);clip: rect(1px, 1px, 1px, 1px);height: 1px;margin: -1px;overflow: hidden;padding: 0;position: absolute;width: 1px;}#sk-container-id-3 div.sk-estimator {font-family: monospace;background-color: #f0f8ff;border: 1px dotted black;border-radius: 0.25em;box-sizing: border-box;margin-bottom: 0.5em;}#sk-container-id-3 div.sk-estimator:hover {background-color: #d4ebff;}#sk-container-id-3 div.sk-parallel-item::after {content: \"\";width: 100%;border-bottom: 1px solid gray;flex-grow: 1;}#sk-container-id-3 div.sk-label:hover label.sk-toggleable__label {background-color: #d4ebff;}#sk-container-id-3 div.sk-serial::before {content: \"\";position: absolute;border-left: 1px solid gray;box-sizing: border-box;top: 0;bottom: 0;left: 50%;z-index: 0;}#sk-container-id-3 div.sk-serial {display: flex;flex-direction: column;align-items: center;background-color: white;padding-right: 0.2em;padding-left: 0.2em;position: relative;}#sk-container-id-3 div.sk-item {position: relative;z-index: 1;}#sk-container-id-3 div.sk-parallel {display: flex;align-items: stretch;justify-content: center;background-color: white;position: relative;}#sk-container-id-3 div.sk-item::before, #sk-container-id-3 div.sk-parallel-item::before {content: \"\";position: absolute;border-left: 1px solid gray;box-sizing: border-box;top: 0;bottom: 0;left: 50%;z-index: -1;}#sk-container-id-3 div.sk-parallel-item {display: flex;flex-direction: column;z-index: 1;position: relative;background-color: white;}#sk-container-id-3 div.sk-parallel-item:first-child::after {align-self: flex-end;width: 50%;}#sk-container-id-3 div.sk-parallel-item:last-child::after {align-self: flex-start;width: 50%;}#sk-container-id-3 div.sk-parallel-item:only-child::after {width: 0;}#sk-container-id-3 div.sk-dashed-wrapped {border: 1px dashed gray;margin: 0 0.4em 0.5em 0.4em;box-sizing: border-box;padding-bottom: 0.4em;background-color: white;}#sk-container-id-3 div.sk-label label {font-family: monospace;font-weight: bold;display: inline-block;line-height: 1.2em;}#sk-container-id-3 div.sk-label-container {text-align: center;}#sk-container-id-3 div.sk-container {/* jupyter's `normalize.less` sets `[hidden] { display: none; }` but bootstrap.min.css set `[hidden] { display: none !important; }` so we also need the `!important` here to be able to override the default hidden behavior on the sphinx rendered scikit-learn.org. See: https://github.com/scikit-learn/scikit-learn/issues/21755 */display: inline-block !important;position: relative;}#sk-container-id-3 div.sk-text-repr-fallback {display: none;}</style><div id=\"sk-container-id-3\" class=\"sk-top-container\"><div class=\"sk-text-repr-fallback\"><pre>RandomForestClassifier(class_weight=&#x27;balanced&#x27;, random_state=1)</pre><b>In a Jupyter environment, please rerun this cell to show the HTML representation or trust the notebook. <br />On GitHub, the HTML representation is unable to render, please try loading this page with nbviewer.org.</b></div><div class=\"sk-container\" hidden><div class=\"sk-item\"><div class=\"sk-estimator sk-toggleable\"><input class=\"sk-toggleable__control sk-hidden--visually\" id=\"sk-estimator-id-3\" type=\"checkbox\" checked><label for=\"sk-estimator-id-3\" class=\"sk-toggleable__label sk-toggleable__label-arrow\">RandomForestClassifier</label><div class=\"sk-toggleable__content\"><pre>RandomForestClassifier(class_weight=&#x27;balanced&#x27;, random_state=1)</pre></div></div></div></div></div>"
      ],
      "text/plain": [
       "RandomForestClassifier(class_weight='balanced', random_state=1)"
      ]
     },
     "execution_count": 45,
     "metadata": {},
     "output_type": "execute_result"
    }
   ],
   "source": [
    "# Fitting the model\n",
    "rf_estimator = RandomForestClassifier(random_state=1, class_weight='balanced') ##random forest with random state = 1 and class_weight = balanced\n",
    "rf_estimator.fit(X_train,y_train) ##  fit random forest on the train data"
   ]
  },
  {
   "cell_type": "markdown",
   "id": "possible-vinyl",
   "metadata": {
    "id": "possible-vinyl"
   },
   "source": [
    "#### Checking model performance on training set"
   ]
  },
  {
   "cell_type": "code",
   "execution_count": 46,
   "id": "KLyHnpeOmOk3",
   "metadata": {
    "id": "KLyHnpeOmOk3"
   },
   "outputs": [
    {
     "data": {
      "image/png": "[encoded data removed]",
      "text/plain": [
       "<Figure size 600x400 with 2 Axes>"
      ]
     },
     "metadata": {},
     "output_type": "display_data"
    }
   ],
   "source": [
    "confusion_matrix_sklearn(rf_estimator, X_train, y_train) ##confusion matrix for train data"
   ]
  },
  {
   "cell_type": "code",
   "execution_count": 47,
   "id": "AvgB2qmImOVV",
   "metadata": {
    "id": "AvgB2qmImOVV"
   },
   "outputs": [
    {
     "data": {
      "text/html": [
       "<div>\n",
       "<style scoped>\n",
       "    .dataframe tbody tr th:only-of-type {\n",
       "        vertical-align: middle;\n",
       "    }\n",
       "\n",
       "    .dataframe tbody tr th {\n",
       "        vertical-align: top;\n",
       "    }\n",
       "\n",
       "    .dataframe thead th {\n",
       "        text-align: right;\n",
       "    }\n",
       "</style>\n",
       "<table border=\"1\" class=\"dataframe\">\n",
       "  <thead>\n",
       "    <tr style=\"text-align: right;\">\n",
       "      <th></th>\n",
       "      <th>Accuracy</th>\n",
       "      <th>Recall</th>\n",
       "      <th>Precision</th>\n",
       "      <th>F1</th>\n",
       "    </tr>\n",
       "  </thead>\n",
       "  <tbody>\n",
       "    <tr>\n",
       "      <th>0</th>\n",
       "      <td>1.0</td>\n",
       "      <td>1.0</td>\n",
       "      <td>1.0</td>\n",
       "      <td>1.0</td>\n",
       "    </tr>\n",
       "  </tbody>\n",
       "</table>\n",
       "</div>"
      ],
      "text/plain": [
       "   Accuracy  Recall  Precision   F1\n",
       "0       1.0     1.0        1.0  1.0"
      ]
     },
     "execution_count": 47,
     "metadata": {},
     "output_type": "execute_result"
    }
   ],
   "source": [
    "# Calculating different metrics\n",
    "rf_estimator_model_train_perf = model_performance_classification_sklearn(rf_estimator, X_train, y_train) #check performance on train data\n",
    "rf_estimator_model_train_perf"
   ]
  },
  {
   "cell_type": "markdown",
   "id": "theoretical-poverty",
   "metadata": {
    "id": "theoretical-poverty"
   },
   "source": [
    "#### Checking model performance on test set"
   ]
  },
  {
   "cell_type": "code",
   "execution_count": 48,
   "id": "yLMuLgsJmYc4",
   "metadata": {
    "id": "yLMuLgsJmYc4"
   },
   "outputs": [
    {
     "data": {
      "image/png": "[encoded data removed]",
      "text/plain": [
       "<Figure size 600x400 with 2 Axes>"
      ]
     },
     "metadata": {},
     "output_type": "display_data"
    }
   ],
   "source": [
    "confusion_matrix_sklearn(rf_estimator, X_test, y_test) #confusion matrix for test data"
   ]
  },
  {
   "cell_type": "code",
   "execution_count": 49,
   "id": "5qV4AeyPmZEG",
   "metadata": {
    "id": "5qV4AeyPmZEG"
   },
   "outputs": [
    {
     "data": {
      "text/html": [
       "<div>\n",
       "<style scoped>\n",
       "    .dataframe tbody tr th:only-of-type {\n",
       "        vertical-align: middle;\n",
       "    }\n",
       "\n",
       "    .dataframe tbody tr th {\n",
       "        vertical-align: top;\n",
       "    }\n",
       "\n",
       "    .dataframe thead th {\n",
       "        text-align: right;\n",
       "    }\n",
       "</style>\n",
       "<table border=\"1\" class=\"dataframe\">\n",
       "  <thead>\n",
       "    <tr style=\"text-align: right;\">\n",
       "      <th></th>\n",
       "      <th>Accuracy</th>\n",
       "      <th>Recall</th>\n",
       "      <th>Precision</th>\n",
       "      <th>F1</th>\n",
       "    </tr>\n",
       "  </thead>\n",
       "  <tbody>\n",
       "    <tr>\n",
       "      <th>0</th>\n",
       "      <td>0.828358</td>\n",
       "      <td>0.913043</td>\n",
       "      <td>0.848485</td>\n",
       "      <td>0.879581</td>\n",
       "    </tr>\n",
       "  </tbody>\n",
       "</table>\n",
       "</div>"
      ],
      "text/plain": [
       "   Accuracy    Recall  Precision        F1\n",
       "0  0.828358  0.913043   0.848485  0.879581"
      ]
     },
     "execution_count": 49,
     "metadata": {},
     "output_type": "execute_result"
    }
   ],
   "source": [
    "rf_estimator_model_test_perf = model_performance_classification_sklearn(rf_estimator, X_test, y_test) ## Complete the code to check performance for test data\n",
    "rf_estimator_model_test_perf"
   ]
  },
  {
   "cell_type": "markdown",
   "id": "beneficial-bosnia",
   "metadata": {
    "id": "beneficial-bosnia"
   },
   "source": [
    "### Hyperparameter Tuning - Random Forest"
   ]
  },
  {
   "cell_type": "code",
   "execution_count": 50,
   "id": "CanzCvoBmhGd",
   "metadata": {
    "id": "CanzCvoBmhGd"
   },
   "outputs": [
    {
     "data": {
      "text/html": [
       "<style>#sk-container-id-4 {color: black;}#sk-container-id-4 pre{padding: 0;}#sk-container-id-4 div.sk-toggleable {background-color: white;}#sk-container-id-4 label.sk-toggleable__label {cursor: pointer;display: block;width: 100%;margin-bottom: 0;padding: 0.3em;box-sizing: border-box;text-align: center;}#sk-container-id-4 label.sk-toggleable__label-arrow:before {content: \"▸\";float: left;margin-right: 0.25em;color: #696969;}#sk-container-id-4 label.sk-toggleable__label-arrow:hover:before {color: black;}#sk-container-id-4 div.sk-estimator:hover label.sk-toggleable__label-arrow:before {color: black;}#sk-container-id-4 div.sk-toggleable__content {max-height: 0;max-width: 0;overflow: hidden;text-align: left;background-color: #f0f8ff;}#sk-container-id-4 div.sk-toggleable__content pre {margin: 0.2em;color: black;border-radius: 0.25em;background-color: #f0f8ff;}#sk-container-id-4 input.sk-toggleable__control:checked~div.sk-toggleable__content {max-height: 200px;max-width: 100%;overflow: auto;}#sk-container-id-4 input.sk-toggleable__control:checked~label.sk-toggleable__label-arrow:before {content: \"▾\";}#sk-container-id-4 div.sk-estimator input.sk-toggleable__control:checked~label.sk-toggleable__label {background-color: #d4ebff;}#sk-container-id-4 div.sk-label input.sk-toggleable__control:checked~label.sk-toggleable__label {background-color: #d4ebff;}#sk-container-id-4 input.sk-hidden--visually {border: 0;clip: rect(1px 1px 1px 1px);clip: rect(1px, 1px, 1px, 1px);height: 1px;margin: -1px;overflow: hidden;padding: 0;position: absolute;width: 1px;}#sk-container-id-4 div.sk-estimator {font-family: monospace;background-color: #f0f8ff;border: 1px dotted black;border-radius: 0.25em;box-sizing: border-box;margin-bottom: 0.5em;}#sk-container-id-4 div.sk-estimator:hover {background-color: #d4ebff;}#sk-container-id-4 div.sk-parallel-item::after {content: \"\";width: 100%;border-bottom: 1px solid gray;flex-grow: 1;}#sk-container-id-4 div.sk-label:hover label.sk-toggleable__label {background-color: #d4ebff;}#sk-container-id-4 div.sk-serial::before {content: \"\";position: absolute;border-left: 1px solid gray;box-sizing: border-box;top: 0;bottom: 0;left: 50%;z-index: 0;}#sk-container-id-4 div.sk-serial {display: flex;flex-direction: column;align-items: center;background-color: white;padding-right: 0.2em;padding-left: 0.2em;position: relative;}#sk-container-id-4 div.sk-item {position: relative;z-index: 1;}#sk-container-id-4 div.sk-parallel {display: flex;align-items: stretch;justify-content: center;background-color: white;position: relative;}#sk-container-id-4 div.sk-item::before, #sk-container-id-4 div.sk-parallel-item::before {content: \"\";position: absolute;border-left: 1px solid gray;box-sizing: border-box;top: 0;bottom: 0;left: 50%;z-index: -1;}#sk-container-id-4 div.sk-parallel-item {display: flex;flex-direction: column;z-index: 1;position: relative;background-color: white;}#sk-container-id-4 div.sk-parallel-item:first-child::after {align-self: flex-end;width: 50%;}#sk-container-id-4 div.sk-parallel-item:last-child::after {align-self: flex-start;width: 50%;}#sk-container-id-4 div.sk-parallel-item:only-child::after {width: 0;}#sk-container-id-4 div.sk-dashed-wrapped {border: 1px dashed gray;margin: 0 0.4em 0.5em 0.4em;box-sizing: border-box;padding-bottom: 0.4em;background-color: white;}#sk-container-id-4 div.sk-label label {font-family: monospace;font-weight: bold;display: inline-block;line-height: 1.2em;}#sk-container-id-4 div.sk-label-container {text-align: center;}#sk-container-id-4 div.sk-container {/* jupyter's `normalize.less` sets `[hidden] { display: none; }` but bootstrap.min.css set `[hidden] { display: none !important; }` so we also need the `!important` here to be able to override the default hidden behavior on the sphinx rendered scikit-learn.org. See: https://github.com/scikit-learn/scikit-learn/issues/21755 */display: inline-block !important;position: relative;}#sk-container-id-4 div.sk-text-repr-fallback {display: none;}</style><div id=\"sk-container-id-4\" class=\"sk-top-container\"><div class=\"sk-text-repr-fallback\"><pre>RandomForestClassifier(max_depth=10, n_estimators=150, oob_score=True,\n",
       "                       random_state=1)</pre><b>In a Jupyter environment, please rerun this cell to show the HTML representation or trust the notebook. <br />On GitHub, the HTML representation is unable to render, please try loading this page with nbviewer.org.</b></div><div class=\"sk-container\" hidden><div class=\"sk-item\"><div class=\"sk-estimator sk-toggleable\"><input class=\"sk-toggleable__control sk-hidden--visually\" id=\"sk-estimator-id-4\" type=\"checkbox\" checked><label for=\"sk-estimator-id-4\" class=\"sk-toggleable__label sk-toggleable__label-arrow\">RandomForestClassifier</label><div class=\"sk-toggleable__content\"><pre>RandomForestClassifier(max_depth=10, n_estimators=150, oob_score=True,\n",
       "                       random_state=1)</pre></div></div></div></div></div>"
      ],
      "text/plain": [
       "RandomForestClassifier(max_depth=10, n_estimators=150, oob_score=True,\n",
       "                       random_state=1)"
      ]
     },
     "execution_count": 50,
     "metadata": {},
     "output_type": "execute_result"
    }
   ],
   "source": [
    "# Choose the type of classifier.\n",
    "rf_tuned = RandomForestClassifier(random_state=1, oob_score=True, bootstrap=True)\n",
    "\n",
    "parameters = {\n",
    "    'n_estimators': [50, 100, 150],  # number of trees in the forest\n",
    "    'max_depth': [None, 10, 20, 30]   # maximum depth of the tree  \n",
    "}\n",
    "\n",
    "# Type of scoring used to compare parameter combinations\n",
    "acc_scorer = metrics.make_scorer(metrics.f1_score)\n",
    "\n",
    "# Run the grid search\n",
    "grid_obj = GridSearchCV(rf_tuned, parameters, scoring=acc_scorer, cv=5, n_jobs=-1) ## grid search with cv = 5 and n_jobs = -1\n",
    "grid_obj =  grid_obj.fit(X_train, y_train) ## fit the grid_obj on the train data\n",
    "\n",
    "# Set the clf to the best combination of parameters\n",
    "rf_tuned = grid_obj.best_estimator_\n",
    "\n",
    "# Fit the best algorithm to the data.\n",
    "rf_tuned.fit(X_train, y_train)"
   ]
  },
  {
   "cell_type": "markdown",
   "id": "joint-appendix",
   "metadata": {
    "id": "joint-appendix"
   },
   "source": [
    "#### Checking model performance on training set"
   ]
  },
  {
   "cell_type": "code",
   "execution_count": 51,
   "id": "scLNOYbCm8JS",
   "metadata": {
    "id": "scLNOYbCm8JS"
   },
   "outputs": [
    {
     "data": {
      "image/png": "[encoded data removed]",
      "text/plain": [
       "<Figure size 600x400 with 2 Axes>"
      ]
     },
     "metadata": {},
     "output_type": "display_data"
    }
   ],
   "source": [
    "confusion_matrix_sklearn(rf_tuned, X_train, y_train)  #confusion matrix for train data on tuned estimator"
   ]
  },
  {
   "cell_type": "code",
   "execution_count": 52,
   "id": "hEWNk03xm-C_",
   "metadata": {
    "id": "hEWNk03xm-C_"
   },
   "outputs": [
    {
     "data": {
      "text/html": [
       "<div>\n",
       "<style scoped>\n",
       "    .dataframe tbody tr th:only-of-type {\n",
       "        vertical-align: middle;\n",
       "    }\n",
       "\n",
       "    .dataframe tbody tr th {\n",
       "        vertical-align: top;\n",
       "    }\n",
       "\n",
       "    .dataframe thead th {\n",
       "        text-align: right;\n",
       "    }\n",
       "</style>\n",
       "<table border=\"1\" class=\"dataframe\">\n",
       "  <thead>\n",
       "    <tr style=\"text-align: right;\">\n",
       "      <th></th>\n",
       "      <th>Accuracy</th>\n",
       "      <th>Recall</th>\n",
       "      <th>Precision</th>\n",
       "      <th>F1</th>\n",
       "    </tr>\n",
       "  </thead>\n",
       "  <tbody>\n",
       "    <tr>\n",
       "      <th>0</th>\n",
       "      <td>0.993548</td>\n",
       "      <td>1.0</td>\n",
       "      <td>0.990476</td>\n",
       "      <td>0.995215</td>\n",
       "    </tr>\n",
       "  </tbody>\n",
       "</table>\n",
       "</div>"
      ],
      "text/plain": [
       "   Accuracy  Recall  Precision        F1\n",
       "0  0.993548     1.0   0.990476  0.995215"
      ]
     },
     "execution_count": 52,
     "metadata": {},
     "output_type": "execute_result"
    }
   ],
   "source": [
    "rf_tuned_model_train_perf = model_performance_classification_sklearn(rf_tuned, X_train, y_train) ## check performance for train data on tuned estimator\n",
    "rf_tuned_model_train_perf"
   ]
  },
  {
   "cell_type": "markdown",
   "id": "joined-newman",
   "metadata": {
    "id": "joined-newman"
   },
   "source": [
    "#### Checking model performance on test set"
   ]
  },
  {
   "cell_type": "code",
   "execution_count": 53,
   "id": "wFME9Q9EnDAV",
   "metadata": {
    "id": "wFME9Q9EnDAV"
   },
   "outputs": [
    {
     "data": {
      "image/png": "[encoded data removed]",
      "text/plain": [
       "<Figure size 600x400 with 2 Axes>"
      ]
     },
     "metadata": {},
     "output_type": "display_data"
    }
   ],
   "source": [
    "confusion_matrix_sklearn(rf_tuned, X_test, y_test) ##confusion matrix for test data on tuned estimator"
   ]
  },
  {
   "cell_type": "code",
   "execution_count": 54,
   "id": "8wdjwrnBnC8r",
   "metadata": {
    "id": "8wdjwrnBnC8r"
   },
   "outputs": [
    {
     "data": {
      "text/html": [
       "<div>\n",
       "<style scoped>\n",
       "    .dataframe tbody tr th:only-of-type {\n",
       "        vertical-align: middle;\n",
       "    }\n",
       "\n",
       "    .dataframe tbody tr th {\n",
       "        vertical-align: top;\n",
       "    }\n",
       "\n",
       "    .dataframe thead th {\n",
       "        text-align: right;\n",
       "    }\n",
       "</style>\n",
       "<table border=\"1\" class=\"dataframe\">\n",
       "  <thead>\n",
       "    <tr style=\"text-align: right;\">\n",
       "      <th></th>\n",
       "      <th>Accuracy</th>\n",
       "      <th>Recall</th>\n",
       "      <th>Precision</th>\n",
       "      <th>F1</th>\n",
       "    </tr>\n",
       "  </thead>\n",
       "  <tbody>\n",
       "    <tr>\n",
       "      <th>0</th>\n",
       "      <td>0.80597</td>\n",
       "      <td>0.902174</td>\n",
       "      <td>0.83</td>\n",
       "      <td>0.864583</td>\n",
       "    </tr>\n",
       "  </tbody>\n",
       "</table>\n",
       "</div>"
      ],
      "text/plain": [
       "   Accuracy    Recall  Precision        F1\n",
       "0   0.80597  0.902174       0.83  0.864583"
      ]
     },
     "execution_count": 54,
     "metadata": {},
     "output_type": "execute_result"
    }
   ],
   "source": [
    "rf_tuned_model_test_perf = model_performance_classification_sklearn(rf_tuned, X_test, y_test) ## performance for test data on tuned estimator\n",
    "rf_tuned_model_test_perf"
   ]
  },
  {
   "cell_type": "markdown",
   "id": "divine-legend",
   "metadata": {
    "id": "divine-legend"
   },
   "source": [
    "### XGBoost Classifier"
   ]
  },
  {
   "cell_type": "markdown",
   "id": "0047fb68-994b-440c-a3cd-9c963e320e4a",
   "metadata": {},
   "source": [
    "- A boosting algorithm that builds models sequentially, with each iteration correcting the errors of the previous one.\n",
    "- Highly optimized for performance and speed."
   ]
  },
  {
   "cell_type": "code",
   "execution_count": 55,
   "id": "k4u1jsyBnKWv",
   "metadata": {
    "id": "k4u1jsyBnKWv"
   },
   "outputs": [
    {
     "data": {
      "text/html": [
       "<style>#sk-container-id-5 {color: black;}#sk-container-id-5 pre{padding: 0;}#sk-container-id-5 div.sk-toggleable {background-color: white;}#sk-container-id-5 label.sk-toggleable__label {cursor: pointer;display: block;width: 100%;margin-bottom: 0;padding: 0.3em;box-sizing: border-box;text-align: center;}#sk-container-id-5 label.sk-toggleable__label-arrow:before {content: \"▸\";float: left;margin-right: 0.25em;color: #696969;}#sk-container-id-5 label.sk-toggleable__label-arrow:hover:before {color: black;}#sk-container-id-5 div.sk-estimator:hover label.sk-toggleable__label-arrow:before {color: black;}#sk-container-id-5 div.sk-toggleable__content {max-height: 0;max-width: 0;overflow: hidden;text-align: left;background-color: #f0f8ff;}#sk-container-id-5 div.sk-toggleable__content pre {margin: 0.2em;color: black;border-radius: 0.25em;background-color: #f0f8ff;}#sk-container-id-5 input.sk-toggleable__control:checked~div.sk-toggleable__content {max-height: 200px;max-width: 100%;overflow: auto;}#sk-container-id-5 input.sk-toggleable__control:checked~label.sk-toggleable__label-arrow:before {content: \"▾\";}#sk-container-id-5 div.sk-estimator input.sk-toggleable__control:checked~label.sk-toggleable__label {background-color: #d4ebff;}#sk-container-id-5 div.sk-label input.sk-toggleable__control:checked~label.sk-toggleable__label {background-color: #d4ebff;}#sk-container-id-5 input.sk-hidden--visually {border: 0;clip: rect(1px 1px 1px 1px);clip: rect(1px, 1px, 1px, 1px);height: 1px;margin: -1px;overflow: hidden;padding: 0;position: absolute;width: 1px;}#sk-container-id-5 div.sk-estimator {font-family: monospace;background-color: #f0f8ff;border: 1px dotted black;border-radius: 0.25em;box-sizing: border-box;margin-bottom: 0.5em;}#sk-container-id-5 div.sk-estimator:hover {background-color: #d4ebff;}#sk-container-id-5 div.sk-parallel-item::after {content: \"\";width: 100%;border-bottom: 1px solid gray;flex-grow: 1;}#sk-container-id-5 div.sk-label:hover label.sk-toggleable__label {background-color: #d4ebff;}#sk-container-id-5 div.sk-serial::before {content: \"\";position: absolute;border-left: 1px solid gray;box-sizing: border-box;top: 0;bottom: 0;left: 50%;z-index: 0;}#sk-container-id-5 div.sk-serial {display: flex;flex-direction: column;align-items: center;background-color: white;padding-right: 0.2em;padding-left: 0.2em;position: relative;}#sk-container-id-5 div.sk-item {position: relative;z-index: 1;}#sk-container-id-5 div.sk-parallel {display: flex;align-items: stretch;justify-content: center;background-color: white;position: relative;}#sk-container-id-5 div.sk-item::before, #sk-container-id-5 div.sk-parallel-item::before {content: \"\";position: absolute;border-left: 1px solid gray;box-sizing: border-box;top: 0;bottom: 0;left: 50%;z-index: -1;}#sk-container-id-5 div.sk-parallel-item {display: flex;flex-direction: column;z-index: 1;position: relative;background-color: white;}#sk-container-id-5 div.sk-parallel-item:first-child::after {align-self: flex-end;width: 50%;}#sk-container-id-5 div.sk-parallel-item:last-child::after {align-self: flex-start;width: 50%;}#sk-container-id-5 div.sk-parallel-item:only-child::after {width: 0;}#sk-container-id-5 div.sk-dashed-wrapped {border: 1px dashed gray;margin: 0 0.4em 0.5em 0.4em;box-sizing: border-box;padding-bottom: 0.4em;background-color: white;}#sk-container-id-5 div.sk-label label {font-family: monospace;font-weight: bold;display: inline-block;line-height: 1.2em;}#sk-container-id-5 div.sk-label-container {text-align: center;}#sk-container-id-5 div.sk-container {/* jupyter's `normalize.less` sets `[hidden] { display: none; }` but bootstrap.min.css set `[hidden] { display: none !important; }` so we also need the `!important` here to be able to override the default hidden behavior on the sphinx rendered scikit-learn.org. See: https://github.com/scikit-learn/scikit-learn/issues/21755 */display: inline-block !important;position: relative;}#sk-container-id-5 div.sk-text-repr-fallback {display: none;}</style><div id=\"sk-container-id-5\" class=\"sk-top-container\"><div class=\"sk-text-repr-fallback\"><pre>XGBClassifier(base_score=None, booster=None, callbacks=None,\n",
       "              colsample_bylevel=None, colsample_bynode=None,\n",
       "              colsample_bytree=None, device=None, early_stopping_rounds=None,\n",
       "              enable_categorical=False, eval_metric=None, feature_types=None,\n",
       "              gamma=None, grow_policy=None, importance_type=None,\n",
       "              interaction_constraints=None, learning_rate=None, max_bin=None,\n",
       "              max_cat_threshold=None, max_cat_to_onehot=None,\n",
       "              max_delta_step=None, max_depth=None, max_leaves=None,\n",
       "              min_child_weight=None, missing=nan, monotone_constraints=None,\n",
       "              multi_strategy=None, n_estimators=None, n_jobs=None,\n",
       "              num_parallel_tree=None, random_state=1, ...)</pre><b>In a Jupyter environment, please rerun this cell to show the HTML representation or trust the notebook. <br />On GitHub, the HTML representation is unable to render, please try loading this page with nbviewer.org.</b></div><div class=\"sk-container\" hidden><div class=\"sk-item\"><div class=\"sk-estimator sk-toggleable\"><input class=\"sk-toggleable__control sk-hidden--visually\" id=\"sk-estimator-id-5\" type=\"checkbox\" checked><label for=\"sk-estimator-id-5\" class=\"sk-toggleable__label sk-toggleable__label-arrow\">XGBClassifier</label><div class=\"sk-toggleable__content\"><pre>XGBClassifier(base_score=None, booster=None, callbacks=None,\n",
       "              colsample_bylevel=None, colsample_bynode=None,\n",
       "              colsample_bytree=None, device=None, early_stopping_rounds=None,\n",
       "              enable_categorical=False, eval_metric=None, feature_types=None,\n",
       "              gamma=None, grow_policy=None, importance_type=None,\n",
       "              interaction_constraints=None, learning_rate=None, max_bin=None,\n",
       "              max_cat_threshold=None, max_cat_to_onehot=None,\n",
       "              max_delta_step=None, max_depth=None, max_leaves=None,\n",
       "              min_child_weight=None, missing=nan, monotone_constraints=None,\n",
       "              multi_strategy=None, n_estimators=None, n_jobs=None,\n",
       "              num_parallel_tree=None, random_state=1, ...)</pre></div></div></div></div></div>"
      ],
      "text/plain": [
       "XGBClassifier(base_score=None, booster=None, callbacks=None,\n",
       "              colsample_bylevel=None, colsample_bynode=None,\n",
       "              colsample_bytree=None, device=None, early_stopping_rounds=None,\n",
       "              enable_categorical=False, eval_metric=None, feature_types=None,\n",
       "              gamma=None, grow_policy=None, importance_type=None,\n",
       "              interaction_constraints=None, learning_rate=None, max_bin=None,\n",
       "              max_cat_threshold=None, max_cat_to_onehot=None,\n",
       "              max_delta_step=None, max_depth=None, max_leaves=None,\n",
       "              min_child_weight=None, missing=nan, monotone_constraints=None,\n",
       "              multi_strategy=None, n_estimators=None, n_jobs=None,\n",
       "              num_parallel_tree=None, random_state=1, ...)"
      ]
     },
     "execution_count": 55,
     "metadata": {},
     "output_type": "execute_result"
    }
   ],
   "source": [
    "xgb_classifier = XGBClassifier(random_state=1)#XGBoost classifier with random state = 1\n",
    "xgb_classifier.fit(X_train, y_train) # Fit the XGBoost classifier on the train data"
   ]
  },
  {
   "cell_type": "markdown",
   "id": "grand-popularity",
   "metadata": {
    "id": "grand-popularity"
   },
   "source": [
    "#### Checking model performance on training set"
   ]
  },
  {
   "cell_type": "code",
   "execution_count": 56,
   "id": "t4ZjMiH3nOKT",
   "metadata": {
    "id": "t4ZjMiH3nOKT"
   },
   "outputs": [
    {
     "data": {
      "image/png": "[encoded data removed]",
      "text/plain": [
       "<Figure size 600x400 with 2 Axes>"
      ]
     },
     "metadata": {},
     "output_type": "display_data"
    }
   ],
   "source": [
    "confusion_matrix_sklearn(xgb_classifier, X_train, y_train) #confusion matrix for train data"
   ]
  },
  {
   "cell_type": "code",
   "execution_count": 57,
   "id": "aI_bD8ECnPBW",
   "metadata": {
    "id": "aI_bD8ECnPBW"
   },
   "outputs": [
    {
     "data": {
      "text/html": [
       "<div>\n",
       "<style scoped>\n",
       "    .dataframe tbody tr th:only-of-type {\n",
       "        vertical-align: middle;\n",
       "    }\n",
       "\n",
       "    .dataframe tbody tr th {\n",
       "        vertical-align: top;\n",
       "    }\n",
       "\n",
       "    .dataframe thead th {\n",
       "        text-align: right;\n",
       "    }\n",
       "</style>\n",
       "<table border=\"1\" class=\"dataframe\">\n",
       "  <thead>\n",
       "    <tr style=\"text-align: right;\">\n",
       "      <th></th>\n",
       "      <th>Accuracy</th>\n",
       "      <th>Recall</th>\n",
       "      <th>Precision</th>\n",
       "      <th>F1</th>\n",
       "    </tr>\n",
       "  </thead>\n",
       "  <tbody>\n",
       "    <tr>\n",
       "      <th>0</th>\n",
       "      <td>1.0</td>\n",
       "      <td>1.0</td>\n",
       "      <td>1.0</td>\n",
       "      <td>1.0</td>\n",
       "    </tr>\n",
       "  </tbody>\n",
       "</table>\n",
       "</div>"
      ],
      "text/plain": [
       "   Accuracy  Recall  Precision   F1\n",
       "0       1.0     1.0        1.0  1.0"
      ]
     },
     "execution_count": 57,
     "metadata": {},
     "output_type": "execute_result"
    }
   ],
   "source": [
    "xgb_classifier_model_train_perf = model_performance_classification_sklearn(xgb_classifier, X_train, y_train) #performance on train data\n",
    "xgb_classifier_model_train_perf"
   ]
  },
  {
   "cell_type": "markdown",
   "id": "french-breed",
   "metadata": {
    "id": "french-breed"
   },
   "source": [
    "#### Checking model performance on test set"
   ]
  },
  {
   "cell_type": "code",
   "execution_count": 58,
   "id": "vs6BUDZ3nV7K",
   "metadata": {
    "id": "vs6BUDZ3nV7K"
   },
   "outputs": [
    {
     "data": {
      "image/png": "[encoded data removed]",
      "text/plain": [
       "<Figure size 600x400 with 2 Axes>"
      ]
     },
     "metadata": {},
     "output_type": "display_data"
    }
   ],
   "source": [
    "confusion_matrix_sklearn(xgb_classifier, X_test, y_test) #confusion matrix for test data"
   ]
  },
  {
   "cell_type": "code",
   "execution_count": 59,
   "id": "bX0bjFrSnX_g",
   "metadata": {
    "id": "bX0bjFrSnX_g"
   },
   "outputs": [
    {
     "data": {
      "text/html": [
       "<div>\n",
       "<style scoped>\n",
       "    .dataframe tbody tr th:only-of-type {\n",
       "        vertical-align: middle;\n",
       "    }\n",
       "\n",
       "    .dataframe tbody tr th {\n",
       "        vertical-align: top;\n",
       "    }\n",
       "\n",
       "    .dataframe thead th {\n",
       "        text-align: right;\n",
       "    }\n",
       "</style>\n",
       "<table border=\"1\" class=\"dataframe\">\n",
       "  <thead>\n",
       "    <tr style=\"text-align: right;\">\n",
       "      <th></th>\n",
       "      <th>Accuracy</th>\n",
       "      <th>Recall</th>\n",
       "      <th>Precision</th>\n",
       "      <th>F1</th>\n",
       "    </tr>\n",
       "  </thead>\n",
       "  <tbody>\n",
       "    <tr>\n",
       "      <th>0</th>\n",
       "      <td>0.783582</td>\n",
       "      <td>0.826087</td>\n",
       "      <td>0.853933</td>\n",
       "      <td>0.839779</td>\n",
       "    </tr>\n",
       "  </tbody>\n",
       "</table>\n",
       "</div>"
      ],
      "text/plain": [
       "   Accuracy    Recall  Precision        F1\n",
       "0  0.783582  0.826087   0.853933  0.839779"
      ]
     },
     "execution_count": 59,
     "metadata": {},
     "output_type": "execute_result"
    }
   ],
   "source": [
    "xgb_classifier_model_test_perf = model_performance_classification_sklearn(xgb_classifier, X_test, y_test) ## check performance for test data\n",
    "xgb_classifier_model_test_perf"
   ]
  },
  {
   "cell_type": "markdown",
   "id": "increased-sharing",
   "metadata": {
    "id": "increased-sharing"
   },
   "source": [
    "### Hyperparameter Tuning - XGBoost Classifier"
   ]
  },
  {
   "cell_type": "code",
   "execution_count": 60,
   "id": "NDITsePZnfVi",
   "metadata": {
    "id": "NDITsePZnfVi"
   },
   "outputs": [
    {
     "data": {
      "text/html": [
       "<style>#sk-container-id-6 {color: black;}#sk-container-id-6 pre{padding: 0;}#sk-container-id-6 div.sk-toggleable {background-color: white;}#sk-container-id-6 label.sk-toggleable__label {cursor: pointer;display: block;width: 100%;margin-bottom: 0;padding: 0.3em;box-sizing: border-box;text-align: center;}#sk-container-id-6 label.sk-toggleable__label-arrow:before {content: \"▸\";float: left;margin-right: 0.25em;color: #696969;}#sk-container-id-6 label.sk-toggleable__label-arrow:hover:before {color: black;}#sk-container-id-6 div.sk-estimator:hover label.sk-toggleable__label-arrow:before {color: black;}#sk-container-id-6 div.sk-toggleable__content {max-height: 0;max-width: 0;overflow: hidden;text-align: left;background-color: #f0f8ff;}#sk-container-id-6 div.sk-toggleable__content pre {margin: 0.2em;color: black;border-radius: 0.25em;background-color: #f0f8ff;}#sk-container-id-6 input.sk-toggleable__control:checked~div.sk-toggleable__content {max-height: 200px;max-width: 100%;overflow: auto;}#sk-container-id-6 input.sk-toggleable__control:checked~label.sk-toggleable__label-arrow:before {content: \"▾\";}#sk-container-id-6 div.sk-estimator input.sk-toggleable__control:checked~label.sk-toggleable__label {background-color: #d4ebff;}#sk-container-id-6 div.sk-label input.sk-toggleable__control:checked~label.sk-toggleable__label {background-color: #d4ebff;}#sk-container-id-6 input.sk-hidden--visually {border: 0;clip: rect(1px 1px 1px 1px);clip: rect(1px, 1px, 1px, 1px);height: 1px;margin: -1px;overflow: hidden;padding: 0;position: absolute;width: 1px;}#sk-container-id-6 div.sk-estimator {font-family: monospace;background-color: #f0f8ff;border: 1px dotted black;border-radius: 0.25em;box-sizing: border-box;margin-bottom: 0.5em;}#sk-container-id-6 div.sk-estimator:hover {background-color: #d4ebff;}#sk-container-id-6 div.sk-parallel-item::after {content: \"\";width: 100%;border-bottom: 1px solid gray;flex-grow: 1;}#sk-container-id-6 div.sk-label:hover label.sk-toggleable__label {background-color: #d4ebff;}#sk-container-id-6 div.sk-serial::before {content: \"\";position: absolute;border-left: 1px solid gray;box-sizing: border-box;top: 0;bottom: 0;left: 50%;z-index: 0;}#sk-container-id-6 div.sk-serial {display: flex;flex-direction: column;align-items: center;background-color: white;padding-right: 0.2em;padding-left: 0.2em;position: relative;}#sk-container-id-6 div.sk-item {position: relative;z-index: 1;}#sk-container-id-6 div.sk-parallel {display: flex;align-items: stretch;justify-content: center;background-color: white;position: relative;}#sk-container-id-6 div.sk-item::before, #sk-container-id-6 div.sk-parallel-item::before {content: \"\";position: absolute;border-left: 1px solid gray;box-sizing: border-box;top: 0;bottom: 0;left: 50%;z-index: -1;}#sk-container-id-6 div.sk-parallel-item {display: flex;flex-direction: column;z-index: 1;position: relative;background-color: white;}#sk-container-id-6 div.sk-parallel-item:first-child::after {align-self: flex-end;width: 50%;}#sk-container-id-6 div.sk-parallel-item:last-child::after {align-self: flex-start;width: 50%;}#sk-container-id-6 div.sk-parallel-item:only-child::after {width: 0;}#sk-container-id-6 div.sk-dashed-wrapped {border: 1px dashed gray;margin: 0 0.4em 0.5em 0.4em;box-sizing: border-box;padding-bottom: 0.4em;background-color: white;}#sk-container-id-6 div.sk-label label {font-family: monospace;font-weight: bold;display: inline-block;line-height: 1.2em;}#sk-container-id-6 div.sk-label-container {text-align: center;}#sk-container-id-6 div.sk-container {/* jupyter's `normalize.less` sets `[hidden] { display: none; }` but bootstrap.min.css set `[hidden] { display: none !important; }` so we also need the `!important` here to be able to override the default hidden behavior on the sphinx rendered scikit-learn.org. See: https://github.com/scikit-learn/scikit-learn/issues/21755 */display: inline-block !important;position: relative;}#sk-container-id-6 div.sk-text-repr-fallback {display: none;}</style><div id=\"sk-container-id-6\" class=\"sk-top-container\"><div class=\"sk-text-repr-fallback\"><pre>XGBClassifier(base_score=None, booster=None, callbacks=None,\n",
       "              colsample_bylevel=None, colsample_bynode=None,\n",
       "              colsample_bytree=None, device=None, early_stopping_rounds=None,\n",
       "              enable_categorical=False, eval_metric=None, feature_types=None,\n",
       "              gamma=None, grow_policy=None, importance_type=None,\n",
       "              interaction_constraints=None, learning_rate=0.01, max_bin=None,\n",
       "              max_cat_threshold=None, max_cat_to_onehot=None,\n",
       "              max_delta_step=None, max_depth=None, max_leaves=None,\n",
       "              min_child_weight=None, missing=nan, monotone_constraints=None,\n",
       "              multi_strategy=None, n_estimators=150, n_jobs=None,\n",
       "              num_parallel_tree=None, random_state=1, ...)</pre><b>In a Jupyter environment, please rerun this cell to show the HTML representation or trust the notebook. <br />On GitHub, the HTML representation is unable to render, please try loading this page with nbviewer.org.</b></div><div class=\"sk-container\" hidden><div class=\"sk-item\"><div class=\"sk-estimator sk-toggleable\"><input class=\"sk-toggleable__control sk-hidden--visually\" id=\"sk-estimator-id-6\" type=\"checkbox\" checked><label for=\"sk-estimator-id-6\" class=\"sk-toggleable__label sk-toggleable__label-arrow\">XGBClassifier</label><div class=\"sk-toggleable__content\"><pre>XGBClassifier(base_score=None, booster=None, callbacks=None,\n",
       "              colsample_bylevel=None, colsample_bynode=None,\n",
       "              colsample_bytree=None, device=None, early_stopping_rounds=None,\n",
       "              enable_categorical=False, eval_metric=None, feature_types=None,\n",
       "              gamma=None, grow_policy=None, importance_type=None,\n",
       "              interaction_constraints=None, learning_rate=0.01, max_bin=None,\n",
       "              max_cat_threshold=None, max_cat_to_onehot=None,\n",
       "              max_delta_step=None, max_depth=None, max_leaves=None,\n",
       "              min_child_weight=None, missing=nan, monotone_constraints=None,\n",
       "              multi_strategy=None, n_estimators=150, n_jobs=None,\n",
       "              num_parallel_tree=None, random_state=1, ...)</pre></div></div></div></div></div>"
      ],
      "text/plain": [
       "XGBClassifier(base_score=None, booster=None, callbacks=None,\n",
       "              colsample_bylevel=None, colsample_bynode=None,\n",
       "              colsample_bytree=None, device=None, early_stopping_rounds=None,\n",
       "              enable_categorical=False, eval_metric=None, feature_types=None,\n",
       "              gamma=None, grow_policy=None, importance_type=None,\n",
       "              interaction_constraints=None, learning_rate=0.01, max_bin=None,\n",
       "              max_cat_threshold=None, max_cat_to_onehot=None,\n",
       "              max_delta_step=None, max_depth=None, max_leaves=None,\n",
       "              min_child_weight=None, missing=nan, monotone_constraints=None,\n",
       "              multi_strategy=None, n_estimators=150, n_jobs=None,\n",
       "              num_parallel_tree=None, random_state=1, ...)"
      ]
     },
     "execution_count": 60,
     "metadata": {},
     "output_type": "execute_result"
    }
   ],
   "source": [
    "xgb_tuned = XGBClassifier(random_state=1)\n",
    "\n",
    "# Grid of parameters \n",
    "parameters = {\n",
    "    'n_estimators': [50, 100, 150],  # Number of trees in the forest\n",
    "    'learning_rate': [0.01, 0.1, 0.2],  # Learning rate\n",
    "}\n",
    "\n",
    "# Type of scoring used to compare parameter combinations\n",
    "acc_scorer = metrics.make_scorer(metrics.f1_score)\n",
    "\n",
    "# grid search with cross-validation (cv=5)\n",
    "grid_obj = GridSearchCV(xgb_tuned, parameters, scoring=acc_scorer, cv=5)\n",
    "\n",
    "# Fit the grid search on the training data\n",
    "grid_obj = grid_obj.fit(X_train, y_train)\n",
    "\n",
    "# Set the classifier to the best combination of parameters found\n",
    "xgb_tuned = grid_obj.best_estimator_\n",
    "\n",
    "# Fit the best algorithm to the data\n",
    "xgb_tuned.fit(X_train, y_train)"
   ]
  },
  {
   "cell_type": "markdown",
   "id": "adolescent-carroll",
   "metadata": {
    "id": "adolescent-carroll"
   },
   "source": [
    "#### Checking model performance on training set"
   ]
  },
  {
   "cell_type": "code",
   "execution_count": 61,
   "id": "Zwu3oJ0mnlU-",
   "metadata": {
    "id": "Zwu3oJ0mnlU-"
   },
   "outputs": [
    {
     "data": {
      "image/png": "[encoded data removed]",
      "text/plain": [
       "<Figure size 600x400 with 2 Axes>"
      ]
     },
     "metadata": {},
     "output_type": "display_data"
    }
   ],
   "source": [
    "confusion_matrix_sklearn(xgb_tuned, X_train, y_train) #confusion matrix for train data on tuned estimator"
   ]
  },
  {
   "cell_type": "code",
   "execution_count": 62,
   "id": "TeI5LX6nnmtx",
   "metadata": {
    "id": "TeI5LX6nnmtx"
   },
   "outputs": [
    {
     "data": {
      "text/html": [
       "<div>\n",
       "<style scoped>\n",
       "    .dataframe tbody tr th:only-of-type {\n",
       "        vertical-align: middle;\n",
       "    }\n",
       "\n",
       "    .dataframe tbody tr th {\n",
       "        vertical-align: top;\n",
       "    }\n",
       "\n",
       "    .dataframe thead th {\n",
       "        text-align: right;\n",
       "    }\n",
       "</style>\n",
       "<table border=\"1\" class=\"dataframe\">\n",
       "  <thead>\n",
       "    <tr style=\"text-align: right;\">\n",
       "      <th></th>\n",
       "      <th>Accuracy</th>\n",
       "      <th>Recall</th>\n",
       "      <th>Precision</th>\n",
       "      <th>F1</th>\n",
       "    </tr>\n",
       "  </thead>\n",
       "  <tbody>\n",
       "    <tr>\n",
       "      <th>0</th>\n",
       "      <td>0.909677</td>\n",
       "      <td>0.990385</td>\n",
       "      <td>0.887931</td>\n",
       "      <td>0.936364</td>\n",
       "    </tr>\n",
       "  </tbody>\n",
       "</table>\n",
       "</div>"
      ],
      "text/plain": [
       "   Accuracy    Recall  Precision        F1\n",
       "0  0.909677  0.990385   0.887931  0.936364"
      ]
     },
     "execution_count": 62,
     "metadata": {},
     "output_type": "execute_result"
    }
   ],
   "source": [
    "xgb_tuned_model_train_perf = model_performance_classification_sklearn(xgb_tuned, X_train, y_train) #performance for train data on tuned estimator\n",
    "xgb_tuned_model_train_perf"
   ]
  },
  {
   "cell_type": "markdown",
   "id": "fitting-cameroon",
   "metadata": {
    "id": "fitting-cameroon"
   },
   "source": [
    "#### Checking model performance on test set"
   ]
  },
  {
   "cell_type": "code",
   "execution_count": 63,
   "id": "zNxoiaIbntNJ",
   "metadata": {
    "id": "zNxoiaIbntNJ"
   },
   "outputs": [
    {
     "data": {
      "image/png": "[encoded data removed]",
      "text/plain": [
       "<Figure size 600x400 with 2 Axes>"
      ]
     },
     "metadata": {},
     "output_type": "display_data"
    }
   ],
   "source": [
    "confusion_matrix_sklearn(xgb_tuned, X_test, y_test) ## confusion matrix for test data on tuned estimator"
   ]
  },
  {
   "cell_type": "code",
   "execution_count": 64,
   "id": "P8N5Ms__nuYA",
   "metadata": {
    "id": "P8N5Ms__nuYA"
   },
   "outputs": [
    {
     "data": {
      "text/html": [
       "<div>\n",
       "<style scoped>\n",
       "    .dataframe tbody tr th:only-of-type {\n",
       "        vertical-align: middle;\n",
       "    }\n",
       "\n",
       "    .dataframe tbody tr th {\n",
       "        vertical-align: top;\n",
       "    }\n",
       "\n",
       "    .dataframe thead th {\n",
       "        text-align: right;\n",
       "    }\n",
       "</style>\n",
       "<table border=\"1\" class=\"dataframe\">\n",
       "  <thead>\n",
       "    <tr style=\"text-align: right;\">\n",
       "      <th></th>\n",
       "      <th>Accuracy</th>\n",
       "      <th>Recall</th>\n",
       "      <th>Precision</th>\n",
       "      <th>F1</th>\n",
       "    </tr>\n",
       "  </thead>\n",
       "  <tbody>\n",
       "    <tr>\n",
       "      <th>0</th>\n",
       "      <td>0.835821</td>\n",
       "      <td>0.945652</td>\n",
       "      <td>0.836538</td>\n",
       "      <td>0.887755</td>\n",
       "    </tr>\n",
       "  </tbody>\n",
       "</table>\n",
       "</div>"
      ],
      "text/plain": [
       "   Accuracy    Recall  Precision        F1\n",
       "0  0.835821  0.945652   0.836538  0.887755"
      ]
     },
     "execution_count": 64,
     "metadata": {},
     "output_type": "execute_result"
    }
   ],
   "source": [
    "xgb_tuned_model_test_perf = model_performance_classification_sklearn(xgb_tuned, X_test, y_test) #performance for test data on tuned estimator\n",
    "xgb_tuned_model_test_perf"
   ]
  },
  {
   "cell_type": "markdown",
   "id": "mechanical-clarity",
   "metadata": {
    "id": "mechanical-clarity"
   },
   "source": [
    "## Model Comparison and Final Model Selection"
   ]
  },
  {
   "cell_type": "markdown",
   "id": "royal-panel",
   "metadata": {
    "id": "royal-panel"
   },
   "source": [
    "**Comparing all models**"
   ]
  },
  {
   "cell_type": "code",
   "execution_count": 65,
   "id": "phaZ84G0n6um",
   "metadata": {
    "id": "phaZ84G0n6um"
   },
   "outputs": [
    {
     "name": "stdout",
     "output_type": "stream",
     "text": [
      "Training performance comparison:\n"
     ]
    },
    {
     "data": {
      "text/html": [
       "<div>\n",
       "<style scoped>\n",
       "    .dataframe tbody tr th:only-of-type {\n",
       "        vertical-align: middle;\n",
       "    }\n",
       "\n",
       "    .dataframe tbody tr th {\n",
       "        vertical-align: top;\n",
       "    }\n",
       "\n",
       "    .dataframe thead th {\n",
       "        text-align: right;\n",
       "    }\n",
       "</style>\n",
       "<table border=\"1\" class=\"dataframe\">\n",
       "  <thead>\n",
       "    <tr style=\"text-align: right;\">\n",
       "      <th></th>\n",
       "      <th>Bagging Classifier</th>\n",
       "      <th>Tuned Bagging Classifier</th>\n",
       "      <th>Random Forest</th>\n",
       "      <th>Tuned Random Forest</th>\n",
       "      <th>XGboost Classifier</th>\n",
       "      <th>Tuned XGboost Classifier</th>\n",
       "    </tr>\n",
       "  </thead>\n",
       "  <tbody>\n",
       "    <tr>\n",
       "      <th>Accuracy</th>\n",
       "      <td>0.990323</td>\n",
       "      <td>0.980645</td>\n",
       "      <td>1.0</td>\n",
       "      <td>0.993548</td>\n",
       "      <td>1.0</td>\n",
       "      <td>0.909677</td>\n",
       "    </tr>\n",
       "    <tr>\n",
       "      <th>Recall</th>\n",
       "      <td>0.995192</td>\n",
       "      <td>1.000000</td>\n",
       "      <td>1.0</td>\n",
       "      <td>1.000000</td>\n",
       "      <td>1.0</td>\n",
       "      <td>0.990385</td>\n",
       "    </tr>\n",
       "    <tr>\n",
       "      <th>Precision</th>\n",
       "      <td>0.990431</td>\n",
       "      <td>0.971963</td>\n",
       "      <td>1.0</td>\n",
       "      <td>0.990476</td>\n",
       "      <td>1.0</td>\n",
       "      <td>0.887931</td>\n",
       "    </tr>\n",
       "    <tr>\n",
       "      <th>F1</th>\n",
       "      <td>0.992806</td>\n",
       "      <td>0.985782</td>\n",
       "      <td>1.0</td>\n",
       "      <td>0.995215</td>\n",
       "      <td>1.0</td>\n",
       "      <td>0.936364</td>\n",
       "    </tr>\n",
       "  </tbody>\n",
       "</table>\n",
       "</div>"
      ],
      "text/plain": [
       "           Bagging Classifier  Tuned Bagging Classifier  Random Forest  \\\n",
       "Accuracy             0.990323                  0.980645            1.0   \n",
       "Recall               0.995192                  1.000000            1.0   \n",
       "Precision            0.990431                  0.971963            1.0   \n",
       "F1                   0.992806                  0.985782            1.0   \n",
       "\n",
       "           Tuned Random Forest  XGboost Classifier  Tuned XGboost Classifier  \n",
       "Accuracy              0.993548                 1.0                  0.909677  \n",
       "Recall                1.000000                 1.0                  0.990385  \n",
       "Precision             0.990476                 1.0                  0.887931  \n",
       "F1                    0.995215                 1.0                  0.936364  "
      ]
     },
     "execution_count": 65,
     "metadata": {},
     "output_type": "execute_result"
    }
   ],
   "source": [
    "# training performance comparison\n",
    "\n",
    "models_train_comp_df = pd.concat(\n",
    "    [\n",
    "        bagging_classifier_model_train_perf.T,\n",
    "        bagging_estimator_tuned_model_train_perf.T,\n",
    "        rf_estimator_model_train_perf.T,\n",
    "        rf_tuned_model_train_perf.T,\n",
    "        xgb_classifier_model_train_perf.T,\n",
    "        xgb_tuned_model_train_perf.T,\n",
    "    ],\n",
    "    axis=1,\n",
    ")\n",
    "models_train_comp_df.columns = [\n",
    "\n",
    "    \"Bagging Classifier\",\n",
    "    \"Tuned Bagging Classifier\",\n",
    "    \"Random Forest\",\n",
    "    \"Tuned Random Forest\",\n",
    "    \"XGboost Classifier\",\n",
    "    \"Tuned XGboost Classifier\",\n",
    "\n",
    "]\n",
    "print(\"Training performance comparison:\")\n",
    "models_train_comp_df"
   ]
  },
  {
   "cell_type": "code",
   "execution_count": 66,
   "id": "G3TYNb-Bn8yz",
   "metadata": {
    "id": "G3TYNb-Bn8yz"
   },
   "outputs": [
    {
     "name": "stdout",
     "output_type": "stream",
     "text": [
      "Testing performance comparison:\n"
     ]
    },
    {
     "data": {
      "text/html": [
       "<div>\n",
       "<style scoped>\n",
       "    .dataframe tbody tr th:only-of-type {\n",
       "        vertical-align: middle;\n",
       "    }\n",
       "\n",
       "    .dataframe tbody tr th {\n",
       "        vertical-align: top;\n",
       "    }\n",
       "\n",
       "    .dataframe thead th {\n",
       "        text-align: right;\n",
       "    }\n",
       "</style>\n",
       "<table border=\"1\" class=\"dataframe\">\n",
       "  <thead>\n",
       "    <tr style=\"text-align: right;\">\n",
       "      <th></th>\n",
       "      <th>Bagging Classifier</th>\n",
       "      <th>Tuned Bagging Classifier</th>\n",
       "      <th>Random Forest</th>\n",
       "      <th>Tuned Random Forest</th>\n",
       "      <th>XGboost Classifier</th>\n",
       "      <th>Tuned XGboost Classifier</th>\n",
       "    </tr>\n",
       "  </thead>\n",
       "  <tbody>\n",
       "    <tr>\n",
       "      <th>Accuracy</th>\n",
       "      <td>0.798507</td>\n",
       "      <td>0.776119</td>\n",
       "      <td>0.828358</td>\n",
       "      <td>0.805970</td>\n",
       "      <td>0.783582</td>\n",
       "      <td>0.835821</td>\n",
       "    </tr>\n",
       "    <tr>\n",
       "      <th>Recall</th>\n",
       "      <td>0.815217</td>\n",
       "      <td>0.891304</td>\n",
       "      <td>0.913043</td>\n",
       "      <td>0.902174</td>\n",
       "      <td>0.826087</td>\n",
       "      <td>0.945652</td>\n",
       "    </tr>\n",
       "    <tr>\n",
       "      <th>Precision</th>\n",
       "      <td>0.882353</td>\n",
       "      <td>0.803922</td>\n",
       "      <td>0.848485</td>\n",
       "      <td>0.830000</td>\n",
       "      <td>0.853933</td>\n",
       "      <td>0.836538</td>\n",
       "    </tr>\n",
       "    <tr>\n",
       "      <th>F1</th>\n",
       "      <td>0.847458</td>\n",
       "      <td>0.845361</td>\n",
       "      <td>0.879581</td>\n",
       "      <td>0.864583</td>\n",
       "      <td>0.839779</td>\n",
       "      <td>0.887755</td>\n",
       "    </tr>\n",
       "  </tbody>\n",
       "</table>\n",
       "</div>"
      ],
      "text/plain": [
       "           Bagging Classifier  Tuned Bagging Classifier  Random Forest  \\\n",
       "Accuracy             0.798507                  0.776119       0.828358   \n",
       "Recall               0.815217                  0.891304       0.913043   \n",
       "Precision            0.882353                  0.803922       0.848485   \n",
       "F1                   0.847458                  0.845361       0.879581   \n",
       "\n",
       "           Tuned Random Forest  XGboost Classifier  Tuned XGboost Classifier  \n",
       "Accuracy              0.805970            0.783582                  0.835821  \n",
       "Recall                0.902174            0.826087                  0.945652  \n",
       "Precision             0.830000            0.853933                  0.836538  \n",
       "F1                    0.864583            0.839779                  0.887755  "
      ]
     },
     "execution_count": 66,
     "metadata": {},
     "output_type": "execute_result"
    }
   ],
   "source": [
    "# testing performance comparison\n",
    "models_test_comp_df = pd.concat(\n",
    "    [\n",
    "        bagging_classifier_model_test_perf.T,\n",
    "        bagging_estimator_tuned_model_test_perf.T,\n",
    "        rf_estimator_model_test_perf.T,\n",
    "        rf_tuned_model_test_perf.T,\n",
    "        xgb_classifier_model_test_perf.T,\n",
    "        xgb_tuned_model_test_perf.T,\n",
    "    ],\n",
    "    axis=1,\n",
    ")\n",
    "models_test_comp_df.columns = [\n",
    "\n",
    "    \"Bagging Classifier\",\n",
    "    \"Tuned Bagging Classifier\",\n",
    "    \"Random Forest\",\n",
    "    \"Tuned Random Forest\",\n",
    "    \"XGboost Classifier\",\n",
    "    \"Tuned XGboost Classifier\",\n",
    "\n",
    "]\n",
    "print(\"Testing performance comparison:\")\n",
    "models_test_comp_df"
   ]
  },
  {
   "cell_type": "markdown",
   "id": "stone-venezuela",
   "metadata": {
    "id": "stone-venezuela"
   },
   "source": [
    "### Important features of the final model"
   ]
  },
  {
   "cell_type": "code",
   "execution_count": 67,
   "id": "IPF1T_CFoKWY",
   "metadata": {
    "id": "IPF1T_CFoKWY"
   },
   "outputs": [
    {
     "data": {
      "image/png": "[encoded data removed]",
      "text/plain": [
       "<Figure size 1200x1200 with 1 Axes>"
      ]
     },
     "metadata": {},
     "output_type": "display_data"
    }
   ],
   "source": [
    "feature_names = X_train.columns\n",
    "importances = xgb_tuned.feature_importances_  #the variable corresponding to the best model\n",
    "indices = np.argsort(importances)\n",
    "\n",
    "plt.figure(figsize=(12, 12))\n",
    "plt.title(\"Feature Importances Tuned XGboost Classifier\")\n",
    "plt.barh(range(len(indices)), importances[indices], color=\"violet\", align=\"center\")\n",
    "plt.yticks(range(len(indices)), [feature_names[i] for i in indices])\n",
    "plt.xlabel(\"Relative Importance\")\n",
    "plt.show()"
   ]
  },
  {
   "cell_type": "markdown",
   "id": "congressional-knock",
   "metadata": {
    "id": "congressional-knock"
   },
   "source": [
    "## Actionable Insights and Recommendations"
   ]
  },
  {
   "cell_type": "markdown",
   "id": "SLIcPS4hlpWf",
   "metadata": {
    "id": "SLIcPS4hlpWf"
   },
   "source": [
    "___"
   ]
  },
  {
   "cell_type": "markdown",
   "id": "68bc14d3-9e34-4774-9fb3-1e767778b83f",
   "metadata": {},
   "source": [
    "The performance metrics for the various classifiers during training and testing reveal notable insights into their effectiveness. Here's an observation breakdown:\n",
    "\n",
    "### Training Performance:\n",
    "1. **Bagging Classifier**:\n",
    "   - High accuracy (0.9903), recall (0.9952), and precision (0.9904), with a solid F1 score (0.9928).\n",
    "   - Indicates overfitting as the testing metrics drop significantly.\n",
    "\n",
    "2. **Tuned Bagging Classifier**:\n",
    "   - Slightly reduced training accuracy (0.9806) compared to the base Bagging Classifier, but recall remains perfect (1.0).\n",
    "   - Precision decreases to 0.972, resulting in a reduced F1 score (0.9858).\n",
    "\n",
    "3. **Random Forest**:\n",
    "   - Perfect scores across all metrics during training (accuracy, recall, precision, and F1 at 1.0).\n",
    "   - Clear signs of overfitting since testing metrics differ.\n",
    "\n",
    "4. **Tuned Random Forest**:\n",
    "   - Similar near-perfect performance (accuracy: 0.9935, recall: 1.0, precision: 0.9905, F1: 0.9952).\n",
    "   - Marginally less overfitting than the untuned version.\n",
    "\n",
    "5. **XGBoost Classifier**:\n",
    "   - Perfect scores (accuracy, recall, precision, and F1 at 1.0) during training, indicative of overfitting.\n",
    "\n",
    "6. **Tuned XGBoost Classifier**:\n",
    "   - Accuracy drops to 0.9097, along with precision (0.8879) and F1 score (0.9364).\n",
    "   - Suggests that tuning reduces overfitting but may compromise training performance.\n",
    "\n",
    "---\n",
    "\n",
    "### Testing Performance:\n",
    "1. **Bagging Classifier**:\n",
    "   - Accuracy (0.7985) and F1 score (0.8475) are decent, but there's a noticeable gap from training metrics.\n",
    "   - Precision (0.8824) and recall (0.8152) indicate a slight bias towards positive class predictions.\n",
    "\n",
    "2. **Tuned Bagging Classifier**:\n",
    "   - Testing accuracy drops to 0.7761, showing slight underperformance compared to the untuned version.\n",
    "   - Higher recall (0.8913) but reduced precision (0.8039) shows improved sensitivity at the cost of some false positives.\n",
    "\n",
    "3. **Random Forest**:\n",
    "   - Best testing accuracy (0.8283) among untuned models, with an F1 score of 0.8796.\n",
    "   - Precision (0.8485) and recall (0.9130) are well-balanced, indicating robustness.\n",
    "\n",
    "4. **Tuned Random Forest**:\n",
    "   - Accuracy (0.8060) is slightly lower than the untuned version but still robust.\n",
    "   - Precision (0.83) and recall (0.9022) maintain a good balance, indicating less overfitting after tuning.\n",
    "\n",
    "5. **XGBoost Classifier**:\n",
    "   - Testing accuracy (0.7836) and F1 score (0.8398) are modest.\n",
    "   - Precision (0.8539) and recall (0.8261) indicate some trade-off in sensitivity.\n",
    "\n",
    "6. **Tuned XGBoost Classifier**:\n",
    "   - Best testing accuracy (0.8358) among all models, with a solid F1 score (0.8878).\n",
    "   - Highest recall (0.9457) among all models, but precision (0.8365) suggests a slight increase in false positives.\n",
    "\n",
    "---\n",
    "\n",
    "### Observations:\n",
    "1. **Overfitting**:\n",
    "   - Random Forest and XGBoost classifiers display clear signs of overfitting in their untuned versions, achieving perfect scores during training but reduced performance during testing.\n",
    "   \n",
    "2. **Model Performance**:\n",
    "   - **Tuned XGBoost Classifier** achieves the highest testing accuracy (0.8358) and recall (0.9457), making it the best performer for sensitive classifications.\n",
    "   - **Random Forest** balances accuracy, precision, and recall well, making it a strong contender for real-world scenarios.\n",
    "\n",
    "3. **Trade-offs**:\n",
    "   - Bagging classifiers demonstrate reasonable performance but are outperformed by Random Forest and XGBoost, especially in recall and accuracy.\n",
    "\n",
    "4. **F1 Score Trends**:\n",
    "   - The F1 scores of tuned models generally indicate better balance between precision and recall compared to untuned models.\n",
    "\n",
    "### Recommendation:\n",
    "The **Tuned XGBoost Classifier** is recommended for tasks prioritizing high recall and accuracy. "
   ]
  },
  {
   "cell_type": "markdown",
   "id": "df5f9686-e5f7-4a69-99e2-e35a182e0604",
   "metadata": {},
   "source": [
    "Based on the overall performance on both training and testing data, **Tuned XGBoost** appears to be the best model.\n",
    "\n",
    "### Reasons:\n",
    "1. **Testing Performance**: \n",
    "   - It has the highest **F1 score** (0.887755) and **recall** (0.945652), meaning it strikes a good balance between precision and recall while being particularly good at minimizing false negatives.\n",
    "   - Despite a slightly lower accuracy compared to Random Forest (0.783582 vs. 0.828358), its higher F1 score and recall make it the more reliable model, especially in applications where false positives and false negatives are critical.\n",
    "\n",
    "2. **Generalization**: \n",
    "   - **Tuned XGBoost** has a solid performance on the test set, indicating it generalizes well and doesn't overfit the training data (which can be a concern for models like Random Forest that have perfect scores on training data).\n",
    "\n",
    "### Conclusion: \n",
    "**Tuned XGBoost** stands out as the best model due to its strong performance across multiple metrics (F1 score, recall, precision) on the testing set. It is likely the most reliable for deployment in real-world scenarios."
   ]
  },
  {
   "cell_type": "code",
   "execution_count": 68,
   "id": "9ca64dce-af20-4487-a5a7-3fabaca44d78",
   "metadata": {},
   "outputs": [],
   "source": [
    "model_xgb_predict = xgb_tuned.predict(X_test)"
   ]
  },
  {
   "cell_type": "code",
   "execution_count": 69,
   "id": "395e9879-5c50-4425-90a2-3fe81b22723f",
   "metadata": {},
   "outputs": [
    {
     "data": {
      "text/plain": [
       "array([1, 1, 1, 1, 0, 1, 0, 0, 0, 1, 1, 0, 1, 0, 1, 1, 1, 0, 1, 0, 1, 0,\n",
       "       0, 1, 1, 1, 0, 1, 1, 1, 1, 1, 0, 1, 1, 0, 1, 1, 0, 1, 0, 1, 0, 1,\n",
       "       1, 0, 1, 1, 1, 0, 1, 1, 1, 1, 1, 1, 1, 1, 0, 1, 1, 1, 1, 1, 1, 1,\n",
       "       1, 1, 1, 1, 1, 0, 1, 1, 1, 1, 0, 1, 0, 1, 1, 1, 1, 1, 1, 1, 0, 1,\n",
       "       1, 0, 1, 1, 1, 1, 1, 1, 1, 1, 1, 1, 1, 0, 0, 1, 1, 1, 1, 1, 1, 1,\n",
       "       0, 1, 0, 1, 1, 1, 1, 1, 1, 1, 0, 1, 1, 1, 1, 1, 1, 1, 1, 1, 1, 0,\n",
       "       1, 1])"
      ]
     },
     "execution_count": 69,
     "metadata": {},
     "output_type": "execute_result"
    }
   ],
   "source": [
    "model_xgb_predict"
   ]
  },
  {
   "cell_type": "code",
   "execution_count": 70,
   "id": "5ca0582a-7f76-40f8-99fd-309720c69852",
   "metadata": {},
   "outputs": [],
   "source": [
    "probabilities = xgb_tuned.predict_proba(X_test) #designed to give the probability estimates for each class label in a classification task"
   ]
  },
  {
   "cell_type": "code",
   "execution_count": 71,
   "id": "ba1479f0-6df7-4685-b143-854e65e6653c",
   "metadata": {},
   "outputs": [
    {
     "data": {
      "text/plain": [
       "array([[0.3656019 , 0.6343981 ],\n",
       "       [0.09109342, 0.9089066 ],\n",
       "       [0.3786204 , 0.6213796 ],\n",
       "       [0.19658875, 0.80341125],\n",
       "       [0.7333205 , 0.2666795 ],\n",
       "       [0.40986335, 0.59013665],\n",
       "       [0.829188  , 0.17081204],\n",
       "       [0.79667175, 0.20332825],\n",
       "       [0.7276021 , 0.2723979 ],\n",
       "       [0.09109342, 0.9089066 ],\n",
       "       [0.14294809, 0.8570519 ],\n",
       "       [0.7484577 , 0.25154236],\n",
       "       [0.10893953, 0.8910605 ],\n",
       "       [0.5266633 , 0.47333673],\n",
       "       [0.08972985, 0.91027015],\n",
       "       [0.12139535, 0.87860465],\n",
       "       [0.45835608, 0.5416439 ],\n",
       "       [0.7382754 , 0.26172456],\n",
       "       [0.20161426, 0.79838574],\n",
       "       [0.829188  , 0.17081204],\n",
       "       [0.11393976, 0.88606024],\n",
       "       [0.5757454 , 0.4242546 ],\n",
       "       [0.5970338 , 0.4029662 ],\n",
       "       [0.16231358, 0.8376864 ],\n",
       "       [0.14849293, 0.85150707],\n",
       "       [0.09378219, 0.9062178 ],\n",
       "       [0.6272242 , 0.3727758 ],\n",
       "       [0.14004433, 0.85995567],\n",
       "       [0.14745152, 0.8525485 ],\n",
       "       [0.14849293, 0.85150707],\n",
       "       [0.15944344, 0.84055656],\n",
       "       [0.08972985, 0.91027015],\n",
       "       [0.75165784, 0.24834217],\n",
       "       [0.45158172, 0.5484183 ],\n",
       "       [0.37672383, 0.6232762 ],\n",
       "       [0.62907207, 0.3709279 ],\n",
       "       [0.10617673, 0.89382327],\n",
       "       [0.16830581, 0.8316942 ],\n",
       "       [0.829188  , 0.17081204],\n",
       "       [0.2733159 , 0.7266841 ],\n",
       "       [0.7404752 , 0.2595248 ],\n",
       "       [0.15216535, 0.84783465],\n",
       "       [0.6011273 , 0.39887267],\n",
       "       [0.12035471, 0.8796453 ],\n",
       "       [0.18621218, 0.8137878 ],\n",
       "       [0.829188  , 0.17081204],\n",
       "       [0.14979398, 0.850206  ],\n",
       "       [0.12481517, 0.87518483],\n",
       "       [0.16969484, 0.83030516],\n",
       "       [0.5697669 , 0.43023312],\n",
       "       [0.25171947, 0.7482805 ],\n",
       "       [0.0988223 , 0.9011777 ],\n",
       "       [0.22456104, 0.77543896],\n",
       "       [0.10752642, 0.8924736 ],\n",
       "       [0.08876312, 0.9112369 ],\n",
       "       [0.3566894 , 0.6433106 ],\n",
       "       [0.09840077, 0.9015992 ],\n",
       "       [0.09671861, 0.9032814 ],\n",
       "       [0.829188  , 0.17081204],\n",
       "       [0.1729092 , 0.8270908 ],\n",
       "       [0.14301056, 0.85698944],\n",
       "       [0.38498974, 0.61501026],\n",
       "       [0.20995778, 0.7900422 ],\n",
       "       [0.2575819 , 0.7424181 ],\n",
       "       [0.18448818, 0.8155118 ],\n",
       "       [0.12817663, 0.8718234 ],\n",
       "       [0.09109342, 0.9089066 ],\n",
       "       [0.27095574, 0.72904426],\n",
       "       [0.16711831, 0.8328817 ],\n",
       "       [0.09109342, 0.9089066 ],\n",
       "       [0.09671861, 0.9032814 ],\n",
       "       [0.829188  , 0.17081204],\n",
       "       [0.15259165, 0.84740835],\n",
       "       [0.26230645, 0.73769355],\n",
       "       [0.458261  , 0.541739  ],\n",
       "       [0.21079803, 0.789202  ],\n",
       "       [0.7601993 , 0.23980069],\n",
       "       [0.09109342, 0.9089066 ],\n",
       "       [0.829188  , 0.17081204],\n",
       "       [0.14004433, 0.85995567],\n",
       "       [0.39140975, 0.60859025],\n",
       "       [0.12485874, 0.87514126],\n",
       "       [0.19875187, 0.80124813],\n",
       "       [0.24648762, 0.7535124 ],\n",
       "       [0.14294809, 0.8570519 ],\n",
       "       [0.38498974, 0.61501026],\n",
       "       [0.5980027 , 0.4019973 ],\n",
       "       [0.08972985, 0.91027015],\n",
       "       [0.27429616, 0.72570384],\n",
       "       [0.829188  , 0.17081204],\n",
       "       [0.11393976, 0.88606024],\n",
       "       [0.40757972, 0.5924203 ],\n",
       "       [0.45827448, 0.5417255 ],\n",
       "       [0.12216139, 0.8778386 ],\n",
       "       [0.15111232, 0.8488877 ],\n",
       "       [0.09824657, 0.9017534 ],\n",
       "       [0.08876312, 0.9112369 ],\n",
       "       [0.10559154, 0.89440846],\n",
       "       [0.41371322, 0.5862868 ],\n",
       "       [0.22043645, 0.77956355],\n",
       "       [0.08876312, 0.9112369 ],\n",
       "       [0.76601106, 0.23398893],\n",
       "       [0.829188  , 0.17081204],\n",
       "       [0.09671861, 0.9032814 ],\n",
       "       [0.14849293, 0.85150707],\n",
       "       [0.22320074, 0.77679926],\n",
       "       [0.35019642, 0.6498036 ],\n",
       "       [0.08876312, 0.9112369 ],\n",
       "       [0.15965295, 0.84034705],\n",
       "       [0.31780457, 0.6821954 ],\n",
       "       [0.7232923 , 0.2767077 ],\n",
       "       [0.1318031 , 0.8681969 ],\n",
       "       [0.67215824, 0.32784176],\n",
       "       [0.26039064, 0.73960936],\n",
       "       [0.46265507, 0.53734493],\n",
       "       [0.15934658, 0.8406534 ],\n",
       "       [0.16539377, 0.83460623],\n",
       "       [0.25973862, 0.7402614 ],\n",
       "       [0.23266119, 0.7673388 ],\n",
       "       [0.11740893, 0.88259107],\n",
       "       [0.829188  , 0.17081204],\n",
       "       [0.10617673, 0.89382327],\n",
       "       [0.12817663, 0.8718234 ],\n",
       "       [0.22320074, 0.77679926],\n",
       "       [0.3762166 , 0.6237834 ],\n",
       "       [0.09109342, 0.9089066 ],\n",
       "       [0.16458803, 0.83541197],\n",
       "       [0.21123332, 0.7887667 ],\n",
       "       [0.1318031 , 0.8681969 ],\n",
       "       [0.32585585, 0.67414415],\n",
       "       [0.43580067, 0.5641993 ],\n",
       "       [0.5122723 , 0.4877277 ],\n",
       "       [0.32543218, 0.6745678 ],\n",
       "       [0.10992754, 0.89007246]], dtype=float32)"
      ]
     },
     "execution_count": 71,
     "metadata": {},
     "output_type": "execute_result"
    }
   ],
   "source": [
    "probabilities"
   ]
  },
  {
   "cell_type": "code",
   "execution_count": 72,
   "id": "ba6aa785-ed21-4d41-bb3c-a91b545075ea",
   "metadata": {},
   "outputs": [],
   "source": [
    "row_sums = probabilities.sum(axis=1)"
   ]
  },
  {
   "cell_type": "code",
   "execution_count": 73,
   "id": "5738e5aa-3ead-4366-924c-0000aaff142a",
   "metadata": {},
   "outputs": [],
   "source": [
    "preferred_modes = np.argmax(probabilities, axis=1) #input value that produces the maximum output value of a function"
   ]
  },
  {
   "cell_type": "code",
   "execution_count": 74,
   "id": "4785d4e0-ce55-495a-a008-8372218db576",
   "metadata": {},
   "outputs": [
    {
     "data": {
      "text/plain": [
       "array([1, 1, 1, 1, 0, 1, 0, 0, 0, 1, 1, 0, 1, 0, 1, 1, 1, 0, 1, 0, 1, 0,\n",
       "       0, 1, 1, 1, 0, 1, 1, 1, 1, 1, 0, 1, 1, 0, 1, 1, 0, 1, 0, 1, 0, 1,\n",
       "       1, 0, 1, 1, 1, 0, 1, 1, 1, 1, 1, 1, 1, 1, 0, 1, 1, 1, 1, 1, 1, 1,\n",
       "       1, 1, 1, 1, 1, 0, 1, 1, 1, 1, 0, 1, 0, 1, 1, 1, 1, 1, 1, 1, 0, 1,\n",
       "       1, 0, 1, 1, 1, 1, 1, 1, 1, 1, 1, 1, 1, 0, 0, 1, 1, 1, 1, 1, 1, 1,\n",
       "       0, 1, 0, 1, 1, 1, 1, 1, 1, 1, 0, 1, 1, 1, 1, 1, 1, 1, 1, 1, 1, 0,\n",
       "       1, 1])"
      ]
     },
     "execution_count": 74,
     "metadata": {},
     "output_type": "execute_result"
    }
   ],
   "source": [
    "preferred_modes"
   ]
  },
  {
   "cell_type": "code",
   "execution_count": 75,
   "id": "a508c299-e0fd-44a8-9f54-d75b53041dc1",
   "metadata": {},
   "outputs": [],
   "source": [
    "transport_mapping = {0: 'Private Transport', 1: 'Public Transport'}\n",
    "preferred_transport_modes = [transport_mapping[mode] for mode in preferred_modes]"
   ]
  },
  {
   "cell_type": "code",
   "execution_count": 76,
   "id": "5bf88461-c528-470b-a65f-d0e8d0e16b4c",
   "metadata": {},
   "outputs": [
    {
     "name": "stdout",
     "output_type": "stream",
     "text": [
      "Counter({'Public Transport': 104, 'Private Transport': 30})\n"
     ]
    }
   ],
   "source": [
    "from collections import Counter\n",
    "mode_distribution = Counter(preferred_transport_modes)\n",
    "print(mode_distribution)"
   ]
  },
  {
   "cell_type": "markdown",
   "id": "2bd78d35-6d67-4f9e-b185-48418455045b",
   "metadata": {},
   "source": [
    "## Insights\n",
    "\n",
    "- **License:** Employees with a driving license are more likely to prefer private transport, as it facilitates personal vehicle usage.\n",
    "- **Salary:** Higher-income employees may favor private transport due to affordability, while lower-income groups might prefer public transport for cost-effectiveness.\n",
    "- **Work Experience:** Employees with more work experience, often older, might lean towards private transport due to stability and convenience.\n",
    "- **Distance:** Employees traveling longer distances might prefer private transport for comfort and flexibility, whereas shorter distances may encourage public transport use.\n",
    "- **Age:** Younger employees are more likely to choose public transport due to affordability, while older employees may prioritize the convenience of private transport."
   ]
  },
  {
   "cell_type": "code",
   "execution_count": 77,
   "id": "d541f644-e4dd-4439-89c5-90f9a7d0dab6",
   "metadata": {},
   "outputs": [
    {
     "data": {
      "image/png": "[encoded data removed]",
      "text/plain": [
       "<Figure size 1200x1200 with 1 Axes>"
      ]
     },
     "metadata": {},
     "output_type": "display_data"
    }
   ],
   "source": [
    "feature_names = X_train.columns\n",
    "importances = rf_estimator.feature_importances_  #the variable corresponding to the best model\n",
    "indices = np.argsort(importances)\n",
    "\n",
    "plt.figure(figsize=(12, 12))\n",
    "plt.title(\"Feature Importances of Random Forest\")\n",
    "plt.barh(range(len(indices)), importances[indices], color=\"violet\", align=\"center\")\n",
    "plt.yticks(range(len(indices)), [feature_names[i] for i in indices])\n",
    "plt.xlabel(\"Relative Importance\")\n",
    "plt.show()"
   ]
  },
  {
   "cell_type": "markdown",
   "id": "34b232a5-c249-4856-821b-76d1163b39b9",
   "metadata": {},
   "source": [
    "- While all models performed well on training data, Tuned XGBoost exhibited the best balance of accuracy and F1-Score on testing data, making it the most suitable model for this dataset. Future improvements could include handling class imbalances(using SMOTE) and optimizing feature selection."
   ]
  }
 ],
 "metadata": {
  "colab": {
   "collapsed_sections": [
    "Lm7obbsV_RUT",
    "thorough-passion",
    "mq-1s9p-_aKl",
    "aboriginal-wrist",
    "accessory-camel",
    "assigned-berkeley",
    "standing-horizontal",
    "american-venue",
    "cutting-bookmark",
    "wooden-christian",
    "comic-inventory",
    "metric-apparel",
    "bulgarian-parts",
    "editorial-command",
    "equivalent-aging",
    "dressed-excuse",
    "changing-kansas",
    "qBWlk20UBUAx",
    "allied-association",
    "flexible-independence",
    "dr7q6-dbfiQB",
    "elegant-bookmark",
    "beneficial-bosnia",
    "joint-appendix",
    "joined-newman",
    "mqL4gfWyBytf",
    "divine-legend",
    "french-breed",
    "increased-sharing",
    "adolescent-carroll",
    "fitting-cameroon",
    "mechanical-clarity",
    "stone-venezuela",
    "congressional-knock"
   ],
   "provenance": []
  },
  "kernelspec": {
   "display_name": "Python 3 (ipykernel)",
   "language": "python",
   "name": "python3"
  },
  "language_info": {
   "codemirror_mode": {
    "name": "ipython",
    "version": 3
   },
   "file_extension": ".py",
   "mimetype": "text/x-python",
   "name": "python",
   "nbconvert_exporter": "python",
   "pygments_lexer": "ipython3",
   "version": "3.11.8"
  }
 },
 "nbformat": 4,
 "nbformat_minor": 5
}
